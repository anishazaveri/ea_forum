{
  "nbformat": 4,
  "nbformat_minor": 0,
  "metadata": {
    "colab": {
      "name": "EA_forum GPT2",
      "provenance": [],
      "collapsed_sections": [],
      "toc_visible": true,
      "include_colab_link": true
    },
    "kernelspec": {
      "name": "python3",
      "display_name": "Python 3"
    },
    "accelerator": "GPU"
  },
  "cells": [
    {
      "cell_type": "markdown",
      "metadata": {
        "id": "view-in-github",
        "colab_type": "text"
      },
      "source": [
        "<a href=\"https://colab.research.google.com/github/anishazaveri/ea_forum/blob/master/EA_forum_GPT2.ipynb\" target=\"_parent\"><img src=\"https://colab.research.google.com/assets/colab-badge.svg\" alt=\"Open In Colab\"/></a>"
      ]
    },
    {
      "cell_type": "markdown",
      "metadata": {
        "id": "H7LoMj4GA4n_",
        "colab_type": "text"
      },
      "source": [
        "#  Train a GPT-2 Text-Generating Model w/ GPU For Free \n",
        "\n",
        "by [Max Woolf](http://minimaxir.com)\n",
        "\n",
        "*Last updated: November 10th, 2019*\n",
        "\n",
        "Retrain an advanced text generating neural network on any text dataset **for free on a GPU using Collaboratory** using `gpt-2-simple`!\n",
        "\n",
        "For more about `gpt-2-simple`, you can visit [this GitHub repository](https://github.com/minimaxir/gpt-2-simple). You can also read my [blog post](https://minimaxir.com/2019/09/howto-gpt2/) for more information how to use this notebook!\n",
        "\n",
        "\n",
        "To get started:\n",
        "\n",
        "1. Copy this notebook to your Google Drive to keep it and save your changes. (File -> Save a Copy in Drive)\n",
        "2. Make sure you're running the notebook in Google Chrome.\n",
        "3. Run the cells below:\n"
      ]
    },
    {
      "cell_type": "code",
      "metadata": {
        "id": "KBkpRgBCBS2_",
        "colab_type": "code",
        "outputId": "f2dfbdbb-9218-430b-a373-3f228ce38321",
        "colab": {
          "base_uri": "https://localhost:8080/",
          "height": 173
        }
      },
      "source": [
        "%tensorflow_version 1.x\n",
        "!pip install -q gpt-2-simple\n",
        "import gpt_2_simple as gpt2\n",
        "from datetime import datetime\n",
        "from google.colab import files"
      ],
      "execution_count": 0,
      "outputs": [
        {
          "output_type": "stream",
          "text": [
            "TensorFlow 1.x selected.\n",
            "WARNING:tensorflow:\n",
            "The TensorFlow contrib module will not be included in TensorFlow 2.0.\n",
            "For more information, please see:\n",
            "  * https://github.com/tensorflow/community/blob/master/rfcs/20180907-contrib-sunset.md\n",
            "  * https://github.com/tensorflow/addons\n",
            "  * https://github.com/tensorflow/io (for I/O related ops)\n",
            "If you depend on functionality not listed there, please file an issue.\n",
            "\n"
          ],
          "name": "stdout"
        }
      ]
    },
    {
      "cell_type": "markdown",
      "metadata": {
        "id": "Bj2IJLHP3KwE",
        "colab_type": "text"
      },
      "source": [
        "## GPU\n",
        "\n",
        "Colaboratory uses either a Nvidia T4 GPU or an Nvidia K80 GPU. The T4 is slightly faster than the old K80 for training GPT-2, and has more memory allowing you to train the larger GPT-2 models and generate more text.\n",
        "\n",
        "You can verify which GPU is active by running the cell below."
      ]
    },
    {
      "cell_type": "code",
      "metadata": {
        "id": "sUmTooTW3osf",
        "colab_type": "code",
        "outputId": "342bcf4f-cec5-47cc-ee03-4ea2091333e3",
        "colab": {
          "base_uri": "https://localhost:8080/",
          "height": 312
        }
      },
      "source": [
        "!nvidia-smi"
      ],
      "execution_count": 0,
      "outputs": [
        {
          "output_type": "stream",
          "text": [
            "Wed May  6 15:25:16 2020       \n",
            "+-----------------------------------------------------------------------------+\n",
            "| NVIDIA-SMI 440.82       Driver Version: 418.67       CUDA Version: 10.1     |\n",
            "|-------------------------------+----------------------+----------------------+\n",
            "| GPU  Name        Persistence-M| Bus-Id        Disp.A | Volatile Uncorr. ECC |\n",
            "| Fan  Temp  Perf  Pwr:Usage/Cap|         Memory-Usage | GPU-Util  Compute M. |\n",
            "|===============================+======================+======================|\n",
            "|   0  Tesla T4            Off  | 00000000:00:04.0 Off |                    0 |\n",
            "| N/A   64C    P8    11W /  70W |      0MiB / 15079MiB |      0%      Default |\n",
            "+-------------------------------+----------------------+----------------------+\n",
            "                                                                               \n",
            "+-----------------------------------------------------------------------------+\n",
            "| Processes:                                                       GPU Memory |\n",
            "|  GPU       PID   Type   Process name                             Usage      |\n",
            "|=============================================================================|\n",
            "|  No running processes found                                                 |\n",
            "+-----------------------------------------------------------------------------+\n"
          ],
          "name": "stdout"
        }
      ]
    },
    {
      "cell_type": "markdown",
      "metadata": {
        "id": "0wXB05bPDYxS",
        "colab_type": "text"
      },
      "source": [
        "## Downloading GPT-2\n",
        "\n",
        "If you're retraining a model on new text, you need to download the GPT-2 model first. \n",
        "\n",
        "There are three released sizes of GPT-2:\n",
        "\n",
        "* `124M` (default): the \"small\" model, 500MB on disk.\n",
        "* `355M`: the \"medium\" model, 1.5GB on disk.\n",
        "* `774M`: the \"large\" model, cannot currently be finetuned with Colaboratory but can be used to generate text from the pretrained model (see later in Notebook)\n",
        "* `1558M`: the \"extra large\", true model. Will not work if a K80 GPU is attached to the notebook. (like `774M`, it cannot be finetuned).\n",
        "\n",
        "Larger models have more knowledge, but take longer to finetune and longer to generate text. You can specify which base model to use by changing `model_name` in the cells below.\n",
        "\n",
        "The next cell downloads it from Google Cloud Storage and saves it in the Colaboratory VM at `/models/<model_name>`.\n",
        "\n",
        "This model isn't permanently saved in the Colaboratory VM; you'll have to redownload it if you want to retrain it at a later time."
      ]
    },
    {
      "cell_type": "code",
      "metadata": {
        "id": "P8wSlgXoDPCR",
        "colab_type": "code",
        "outputId": "898f70e5-f12d-4c8c-eb38-a851830f9881",
        "colab": {
          "base_uri": "https://localhost:8080/",
          "height": 139
        }
      },
      "source": [
        "gpt2.download_gpt2(model_name=\"355M\")"
      ],
      "execution_count": 0,
      "outputs": [
        {
          "output_type": "stream",
          "text": [
            "Fetching checkpoint: 1.05Mit [00:00, 270Mit/s]                                                      \n",
            "Fetching encoder.json: 1.05Mit [00:00, 96.3Mit/s]                                                   \n",
            "Fetching hparams.json: 1.05Mit [00:00, 358Mit/s]                                                    \n",
            "Fetching model.ckpt.data-00000-of-00001: 1.42Git [00:14, 100Mit/s]                                  \n",
            "Fetching model.ckpt.index: 1.05Mit [00:00, 427Mit/s]                                                \n",
            "Fetching model.ckpt.meta: 1.05Mit [00:00, 106Mit/s]                                                 \n",
            "Fetching vocab.bpe: 1.05Mit [00:00, 212Mit/s]                                                       \n"
          ],
          "name": "stderr"
        }
      ]
    },
    {
      "cell_type": "markdown",
      "metadata": {
        "id": "N8KXuKWzQSsN",
        "colab_type": "text"
      },
      "source": [
        "## Mounting Google Drive\n",
        "\n",
        "The best way to get input text to-be-trained into the Colaboratory VM, and to get the trained model *out* of Colaboratory, is to route it through Google Drive *first*.\n",
        "\n",
        "Running this cell (which will only work in Colaboratory) will mount your personal Google Drive in the VM, which later cells can use to get data in/out. (it will ask for an auth code; that auth is not saved anywhere)"
      ]
    },
    {
      "cell_type": "code",
      "metadata": {
        "id": "puq4iC6vUAHc",
        "colab_type": "code",
        "outputId": "d9639d65-f594-435b-822f-d0f528db2f9d",
        "colab": {
          "base_uri": "https://localhost:8080/",
          "height": 124
        }
      },
      "source": [
        "gpt2.mount_gdrive()"
      ],
      "execution_count": 0,
      "outputs": [
        {
          "output_type": "stream",
          "text": [
            "Go to this URL in a browser: https://accounts.google.com/o/oauth2/auth?client_id=947318989803-6bn6qk8qdgf4n4g3pfee6491hc0brc4i.apps.googleusercontent.com&redirect_uri=urn%3aietf%3awg%3aoauth%3a2.0%3aoob&response_type=code&scope=email%20https%3a%2f%2fwww.googleapis.com%2fauth%2fdocs.test%20https%3a%2f%2fwww.googleapis.com%2fauth%2fdrive%20https%3a%2f%2fwww.googleapis.com%2fauth%2fdrive.photos.readonly%20https%3a%2f%2fwww.googleapis.com%2fauth%2fpeopleapi.readonly\n",
            "\n",
            "Enter your authorization code:\n",
            "··········\n",
            "Mounted at /content/drive\n"
          ],
          "name": "stdout"
        }
      ]
    },
    {
      "cell_type": "markdown",
      "metadata": {
        "id": "BT__brhBCvJu",
        "colab_type": "text"
      },
      "source": [
        "## Uploading a Text File to be Trained to Colaboratory\n",
        "\n",
        "In the Colaboratory Notebook sidebar on the left of the screen, select *Files*. From there you can upload files:\n",
        "\n",
        "![alt text](https://i.imgur.com/TGcZT4h.png)\n",
        "\n",
        "Upload **any smaller text file**  (<10 MB) and update the file name in the cell below, then run the cell."
      ]
    },
    {
      "cell_type": "markdown",
      "metadata": {
        "id": "HeeSKtNWUedE",
        "colab_type": "text"
      },
      "source": [
        "If your text file is larger than 10MB, it is recommended to upload that file to Google Drive first, then copy that file from Google Drive to the Colaboratory VM."
      ]
    },
    {
      "cell_type": "code",
      "metadata": {
        "id": "-Z6okFD8VKtS",
        "colab_type": "code",
        "colab": {}
      },
      "source": [
        "gpt2.copy_file_from_gdrive('eaforum_for_gpt2.txt')"
      ],
      "execution_count": 0,
      "outputs": []
    },
    {
      "cell_type": "markdown",
      "metadata": {
        "id": "LdpZQXknFNY3",
        "colab_type": "text"
      },
      "source": [
        "## Finetune GPT-2\n",
        "\n",
        "The next cell will start the actual finetuning of GPT-2. It creates a persistent TensorFlow session which stores the training config, then runs the training for the specified number of `steps`. (to have the finetuning run indefinitely, set `steps = -1`)\n",
        "\n",
        "The model checkpoints will be saved in `/checkpoint/run1` by default. The checkpoints are saved every 500 steps (can be changed) and when the cell is stopped.\n",
        "\n",
        "The training might time out after 4ish hours; make sure you end training and save the results so you don't lose them!\n",
        "\n",
        "**IMPORTANT NOTE:** If you want to rerun this cell, **restart the VM first** (Runtime -> Restart Runtime). You will need to rerun imports but not recopy files.\n",
        "\n",
        "Other optional-but-helpful parameters for `gpt2.finetune`:\n",
        "\n",
        "\n",
        "*  **`restore_from`**: Set to `fresh` to start training from the base GPT-2, or set to `latest` to restart training from an existing checkpoint.\n",
        "* **`sample_every`**: Number of steps to print example output\n",
        "* **`print_every`**: Number of steps to print training progress.\n",
        "* **`learning_rate`**:  Learning rate for the training. (default `1e-4`, can lower to `1e-5` if you have <1MB input data)\n",
        "*  **`run_name`**: subfolder within `checkpoint` to save the model. This is useful if you want to work with multiple models (will also need to specify  `run_name` when loading the model)\n",
        "* **`overwrite`**: Set to `True` if you want to continue finetuning an existing model (w/ `restore_from='latest'`) without creating duplicate copies. "
      ]
    },
    {
      "cell_type": "code",
      "metadata": {
        "id": "aeXshJM-Cuaf",
        "colab_type": "code",
        "outputId": "b777d6c8-aa39-477a-c7d8-7eb28f86376e",
        "colab": {
          "base_uri": "https://localhost:8080/",
          "height": 1000
        }
      },
      "source": [
        "sess = gpt2.start_tf_sess()\n",
        "\n",
        "gpt2.finetune(sess,\n",
        "              dataset='eaforum_for_gpt2.txt',\n",
        "              model_name='355M',\n",
        "              steps=500,\n",
        "              restore_from='fresh',\n",
        "              run_name='eaforum_run_355M_1',\n",
        "              print_every=10,\n",
        "              sample_every=200,\n",
        "              save_every=500\n",
        "              )"
      ],
      "execution_count": 0,
      "outputs": [
        {
          "output_type": "stream",
          "text": [
            "WARNING:tensorflow:From /usr/local/lib/python3.6/dist-packages/gpt_2_simple/src/sample.py:17: where (from tensorflow.python.ops.array_ops) is deprecated and will be removed in a future version.\n",
            "Instructions for updating:\n",
            "Use tf.where in 2.0, which has the same broadcast rule as np.where\n",
            "WARNING:tensorflow:From /usr/local/lib/python3.6/dist-packages/gpt_2_simple/src/memory_saving_gradients.py:62: get_backward_walk_ops (from tensorflow.contrib.graph_editor.select) is deprecated and will be removed after 2019-06-06.\n",
            "Instructions for updating:\n",
            "Please use tensorflow.python.ops.op_selector.get_backward_walk_ops.\n",
            "Loading checkpoint models/355M/model.ckpt\n",
            "INFO:tensorflow:Restoring parameters from models/355M/model.ckpt\n"
          ],
          "name": "stdout"
        },
        {
          "output_type": "stream",
          "text": [
            "\r  0%|          | 0/1 [00:00<?, ?it/s]"
          ],
          "name": "stderr"
        },
        {
          "output_type": "stream",
          "text": [
            "Loading dataset...\n"
          ],
          "name": "stdout"
        },
        {
          "output_type": "stream",
          "text": [
            "100%|██████████| 1/1 [00:30<00:00, 30.72s/it]\n"
          ],
          "name": "stderr"
        },
        {
          "output_type": "stream",
          "text": [
            "dataset has 6366880 tokens\n",
            "Training...\n",
            "[10 | 24.05] loss=3.02 avg=3.02\n",
            "[20 | 39.48] loss=2.51 avg=2.77\n",
            "[30 | 55.25] loss=3.02 avg=2.85\n",
            "[40 | 71.30] loss=3.52 avg=3.02\n",
            "[50 | 87.68] loss=3.15 avg=3.05\n",
            "[60 | 104.40] loss=3.06 avg=3.05\n",
            "[70 | 120.83] loss=2.84 avg=3.02\n",
            "[80 | 137.08] loss=3.10 avg=3.03\n",
            "[90 | 153.31] loss=3.05 avg=3.03\n",
            "[100 | 169.66] loss=3.04 avg=3.03\n",
            "[110 | 186.08] loss=2.82 avg=3.01\n",
            "[120 | 202.38] loss=2.87 avg=3.00\n",
            "[130 | 218.70] loss=2.64 avg=2.97\n",
            "[140 | 235.01] loss=3.10 avg=2.98\n",
            "[150 | 251.33] loss=3.31 avg=3.00\n",
            "[160 | 267.69] loss=2.61 avg=2.98\n",
            "[170 | 284.07] loss=2.41 avg=2.94\n",
            "[180 | 300.47] loss=3.28 avg=2.96\n",
            "[190 | 316.86] loss=2.82 avg=2.95\n",
            "[200 | 333.27] loss=3.36 avg=2.98\n",
            "======== SAMPLE 1 ========\n",
            "7,7.6) 6 (0.6) 25 (−21,28) 5 (0.7) 0.14 (−23,17) −1.03 (0.35,3.76) −32.5 (0.12,86.9) 30 (−25,44) 1.8 (1.1,2.9) 5 (0.8) 25 (−21,28) 7 (0.9) 0.44 (−19,57) 25 (−36,56) 2.06 (1.28,4.57) −48.5 (0.29,83) 23 (−33,45) 1.55 (1.08, 2.83) 3 (0.6) 12 (−25,35) 2.1 (−1.23, 3.82) −1.5 (2.03, 4.06) 7–14 0.02 (0,0.02) 10 (−14,14) 4 (0.3) 0.12 (−18,31) 0.54 (0.35, 0.97) 0.28 (−35,62) 0.14 (−27,51) 23 (−36,46) 0.86 (−0.57, 1.13) 2.5 (0.3,6.13) 5–8 0.04 (0,0.3) 1 (−2,5) 2 (0.1) 0.07 (−1,5) 0.02 (−0,26) 0.10 (−28,28) 0.18 (−26,38) 21 (0,29) 0.98 (−1.01, 2; 0.27, 1) 27 (0,50) 0.7 (−0.31, 20) −1.2 (−26,30) −4.4 (−27,19) 7+ 0.05 (0.18,0.37) 2 (0.1) 0.03 (−26,51) −2.3 (1.21, 0.88) 3 (0.2) 0.08 (−37,53) 0.01 (−22,57) 22 (−39,48) 1.1 (−0.69, 3.99) 13 (−24,47) −7.0 (−30, 16) 0.37 (−0, 0.84) 6.4 (−30, 20)” 1.4 (0.68, 4.38) 2 (0) 0.16 (−52,50) 5 (0.5) 1.25 (−42,65) 5 (0.7) 0.14 (−52,60) 2.0 (−33, 6) −9.0 (−62, 30) 2.4 (1.8, 5.26) 8–13 0.01 (0,0.02) 8 (−13,13) 5 (0.8) 0.07 (−24,30) 0.51 (1.03, 2.04) 0.18 (−27,55) −6.7 (1.2, 9.0) 9 (0.8), 25 (−27,35) 2 (0.4) −2.1 (−31,31) −9.0 (−60, 32) −35.5 (−54, 82) 11 (−36,44) 3.25 (1.25, 5.38) 9 (−12,34) 2.4 (1.12, 4.76) 12 (1,17), 24 (−34,45) 1.67 (1.08, 2.88) 15–18 0.03 (0,0.7) 1 (0,0) 4 (0.2) 0.01 (−13,37) −1.23 (0.55, 2.22) −6.6 (1.7, 14.9) 8 (0.4), 12 (−21,24) 0.8 (−0, 17.3) “0.8 (−2,8)” 1.5 (1.1, 2.27) 7 (−4,16) 5 (0.9) 8 (−22,38) −13.0 (−42, 58.5) 0.18 (−27, 50) 13−6 −21,40 0.08 (0.09, 0.18) −2,80” −14.1 (3.3, 15.0) 0.11 (−22, 40) −2.9 (2.9, 3.9) 8, 24 6.21 (0.70, 10.80) 29 0.5 (−13, 40) 1.8 (−25, 57) 4.8 (1.9, 9.8) 0.29 (−27, 49) 4.07 (1.19, 6.71) 7\n",
            "\n",
            "[210 | 373.39] loss=3.46 avg=3.00\n",
            "[220 | 389.57] loss=2.84 avg=2.99\n",
            "[230 | 405.85] loss=3.19 avg=3.00\n",
            "[240 | 422.15] loss=3.41 avg=3.02\n",
            "[250 | 438.40] loss=3.47 avg=3.04\n",
            "[260 | 454.62] loss=3.13 avg=3.05\n",
            "[270 | 470.86] loss=2.99 avg=3.04\n",
            "[280 | 487.08] loss=2.67 avg=3.03\n",
            "[290 | 503.29] loss=3.26 avg=3.04\n",
            "[300 | 519.51] loss=2.78 avg=3.03\n",
            "[310 | 535.70] loss=3.04 avg=3.03\n",
            "[320 | 551.94] loss=3.49 avg=3.04\n",
            "[330 | 568.24] loss=2.90 avg=3.04\n",
            "[340 | 584.48] loss=2.74 avg=3.03\n",
            "[350 | 600.70] loss=3.12 avg=3.03\n",
            "[360 | 616.92] loss=2.99 avg=3.03\n",
            "[370 | 633.16] loss=3.43 avg=3.04\n",
            "[380 | 649.36] loss=3.54 avg=3.06\n",
            "[390 | 665.56] loss=3.61 avg=3.08\n",
            "[400 | 681.79] loss=3.36 avg=3.08\n",
            "======== SAMPLE 1 ========\n",
            "Giving the example of the MIRI case study group, in this case the group of MIRI practitioners are not very effective at doing anything about AI risk, and so are effectively useless at fighting existential risk. I would argue that if we look at a similar set of cases from AI risk in this case group, our conclusion isn’t very different.  In fact, it seems we’re very similar; as one can see here, there are two very good options here [that do different things]: I’m not optimistic about fighting AI risk; and I am more interested in fighting AI risk, but don’t have a lot of evidence that it’s worth trying to prevent it (i.e. I don’t know that AI risk does significantly worse damage than humans can do with current AI, and believe that fighting AI risk is as effective as fighting humans). In the case of the MIRI case study group, I’m somewhat pessimistic about fighting AI risk because I don’t know it’s much worse this way, but I am more optimistic about saving the future (i.e. I don’t want AI risk to happen, because I know there are enough reasons to make AI less bad than it is already.)  I might want to keep a slightly more optimistic view of fighting AI risk if I didn’t find that so much better than fighting humans, since human problems would probably be quite different from AI problem problems. It may not necessarily work, so someone might want to try to get around that. Instead of trying to get around it, maybe we ought to try to work on stopping something that is already happening - which might work, but might not.   It might be good to try to find out who these people are, because this could be useful to get closer to understanding what the cases are like. A really well-designed, well-developed case study group could be very useful in thinking up a strategy.  I think that it’s very interesting to think about in which way cases are fighting AI risk compared to AI risk, but people do the opposite. I think that is a good idea because otherwise it might be just like we were talking about, when in one case we are more optimistic about fighting AI risk than human values, when we are more optimistic about fighting humans. On the other hand, if there are cases which do the opposite and are fighting AI risk compared to humans, and this is very close to what we would have judged is likely, that doesn’t mean there won’t be a case of a wrong outcome. [This is an illustration of the difference between giving AI risk as a problem versus AI risk as a problem.] Giving the example of AI safety: A recent article by John Halstead (the author of the blog that this post is about) shows that he believes AI safety researchers have been very effective so far. While AI safety scientists are working to figure out what it will take for humans to control AI, they are also trying to figure out what AI is. Halstead talks about how they should do this, and how they can do this without having to make much of a contribution to AI risk, but he mentions that we should still want to make sure that machines can't be as smart as we are, because otherwise we might end up with a mess of AI. He also says that there are a few other things that could be done with a different approach - and this could be useful in thinking through the options. Given the current lack of evidence of AI safety, I don't think AI safety is important enough to keep working on, so I don’t think it’s a very high priority. Given the current lack of evidence of AI safety, I don’t think that this is very high priority. I think the main thing that AI safety researchers are doing is figuring out what we might need to do differently in the event that we learn that AI or AI safety is going to develop in another way that gives us a chance to have a different impact. You could be saying that AI is going to develop in different ways than AI would develop, but AI is going to develop differently, so that may cause the AI safety researchers to have to make a different contribution. There are two kinds of AI that may have something to do with this. I think that it's not going to work very well if you are trying to do something good for AI safety or AI safety researchers, even if it gives you a chance to learn to do good work. This means that if you are going to do good work, it might not be that good for you.  The other reason could be that there are situations where you can do good for a very different reason, so that we can try it - and I have a feeling that if we are going to want the researchers to do their work in a different way, that has to be a different point. There are a few of the kinds of\n",
            "\n",
            "[410 | 719.47] loss=3.08 avg=3.08\n",
            "[420 | 735.67] loss=3.00 avg=3.08\n",
            "[430 | 751.86] loss=2.74 avg=3.07\n",
            "[440 | 768.08] loss=3.31 avg=3.08\n",
            "[450 | 784.37] loss=3.24 avg=3.08\n",
            "[460 | 800.62] loss=2.99 avg=3.08\n",
            "[470 | 816.94] loss=3.11 avg=3.08\n",
            "[480 | 833.17] loss=3.13 avg=3.08\n",
            "[490 | 849.39] loss=3.16 avg=3.08\n",
            "[500 | 865.60] loss=2.72 avg=3.08\n",
            "Saving checkpoint/eaforum_run_355M_1/model-500\n"
          ],
          "name": "stdout"
        }
      ]
    },
    {
      "cell_type": "markdown",
      "metadata": {
        "id": "IXSuTNERaw6K",
        "colab_type": "text"
      },
      "source": [
        "After the model is trained, you can copy the checkpoint folder to your own Google Drive.\n",
        "\n",
        "If you want to download it to your personal computer, it's strongly recommended you copy it there first, then download from Google Drive. The checkpoint folder is copied as a `.rar` compressed file; you can download it and uncompress it locally."
      ]
    },
    {
      "cell_type": "code",
      "metadata": {
        "id": "VHdTL8NDbAh3",
        "colab_type": "code",
        "colab": {}
      },
      "source": [
        "gpt2.copy_checkpoint_to_gdrive(run_name='eaforum_run_355M_1')"
      ],
      "execution_count": 0,
      "outputs": []
    },
    {
      "cell_type": "markdown",
      "metadata": {
        "id": "qQJgV_b4bmzd",
        "colab_type": "text"
      },
      "source": [
        "You're done! Feel free to go to the **Generate Text From The Trained Model** section to generate text based on your retrained model."
      ]
    },
    {
      "cell_type": "markdown",
      "metadata": {
        "id": "pel-uBULXO2L",
        "colab_type": "text"
      },
      "source": [
        "## Load a Trained Model Checkpoint\n",
        "\n",
        "Running the next cell will copy the `.rar` checkpoint file from your Google Drive into the Colaboratory VM."
      ]
    },
    {
      "cell_type": "code",
      "metadata": {
        "id": "DCcx5u7sbPTD",
        "colab_type": "code",
        "colab": {}
      },
      "source": [
        "gpt2.copy_checkpoint_from_gdrive(run_name='eaforum_run_355M_1')"
      ],
      "execution_count": 0,
      "outputs": []
    },
    {
      "cell_type": "markdown",
      "metadata": {
        "id": "RTa6zf3e_9gV",
        "colab_type": "text"
      },
      "source": [
        "The next cell will allow you to load the retrained model checkpoint + metadata necessary to generate text.\n",
        "\n",
        "**IMPORTANT NOTE:** If you want to rerun this cell, **restart the VM first** (Runtime -> Restart Runtime). You will need to rerun imports but not recopy files."
      ]
    },
    {
      "cell_type": "code",
      "metadata": {
        "id": "-fxL77nvAMAX",
        "colab_type": "code",
        "outputId": "eafc0bf7-2679-4afb-cdde-b8d5f27c816b",
        "colab": {
          "base_uri": "https://localhost:8080/",
          "height": 52
        }
      },
      "source": [
        "sess = gpt2.start_tf_sess()\n",
        "gpt2.load_gpt2(sess, run_name='eaforum_run_355M_1')"
      ],
      "execution_count": 0,
      "outputs": [
        {
          "output_type": "stream",
          "text": [
            "Loading checkpoint checkpoint/eaforum_run_355M_1/model-500\n",
            "INFO:tensorflow:Restoring parameters from checkpoint/eaforum_run_355M_1/model-500\n"
          ],
          "name": "stdout"
        }
      ]
    },
    {
      "cell_type": "markdown",
      "metadata": {
        "id": "ClJwpF_ACONp",
        "colab_type": "text"
      },
      "source": [
        "## Generate Text From The Trained Model\n",
        "\n",
        "After you've trained the model or loaded a retrained model from checkpoint, you can now generate text. `generate` generates a single text from the loaded model."
      ]
    },
    {
      "cell_type": "code",
      "metadata": {
        "id": "4RNY6RBI9LmL",
        "colab_type": "code",
        "outputId": "0ecf112f-c471-4d4f-eb2d-db00c3fbc2d4",
        "colab": {
          "base_uri": "https://localhost:8080/",
          "height": 679
        }
      },
      "source": [
        "gpt2.generate(sess, \n",
        "              length=150,\n",
        "              run_name='eaforum_run_355M_1', \n",
        "              nsamples=10,\n",
        "              prefix ='Introduction to effective altruism',\n",
        "              batch_size=5,\n",
        "              temperature=0.9,\n",
        "              top_p=0.9)"
      ],
      "execution_count": 0,
      "outputs": [
        {
          "output_type": "stream",
          "text": [
            "Introduction to effective altruism, This page is being actively updated and should provide frequent updates. I encourage you to check out the page and see the original content. Copyright 2018, Oxford University Press. Read the Privacy Policy. To receive our daily newsletter, please sign up at https://www.oxu.com/newsletter. Before subscribing, please review the Terms of Service, for more details.\n",
            "Why Smart People Do Stupid Things\n",
            "[UPDATE] I was reminded of this from this talk. It's been recirculating on a lot of EA forums.  This is about my view on why smart people do stupid things. It's a great talk that has a lot of fun and interesting ideas, but I'm not the person to go into the details of the\n",
            "====================\n",
            "Introduction to effective altruism\n",
            "In the last 10 years, effective altruism has grown from a hobbyist idea to a major force in the movement. This gives some insight into what makes effective altruism tick, and why it's more or less fun.  I want to thank Mervyn of Effective Altruism Europe for helping to establish the early effective altruism movement, and I also wish to thank Kerri of Effective Altruism UK for providing a good discussion.   Introduction Effective altruism is a global movement in which individuals, communities, and companies invest in the well-being of others. The intersection between effective altruism and philanthropy is a fascinating subject. There is now a whole cottage industry dedicated to discussing effective altruism.  It is therefore\n",
            "====================\n",
            "Introduction to effective altruism, or 'The Ethics of Effective Altruism', by Patrick Meehan, EAF's website\n",
            "As someone who has devoted substantial time to the EA movement, I don’t think I’ll be a good long-term donor. I am glad I’m able to have such a great contribution to make, but I’d probably have done a better job. I’d likely done a better job at making sure I was spending every dollar I earned on good causes. And I'm not even the only one who’s wasted this enormous amount of money. I am not the only person to have taken money from a donor before, but I do feel like I can’t learn from\n",
            "====================\n",
            "Introduction to effective altruism.\n",
            "This article was originally published on my blog. You can read the original article here.\n",
            "(Part 1 of 2)\n",
            "Introduction to effective altruism. I feel that the idea of effective altruism has been around in one form or another since the beginning of time. It has been on my mind a lot recently. Here I am just repeating the following statements. I don't expect you to be an effective altruist, but if you want to help improve the lives of others, if you want to do it well, you should want to give at least some thought to the concept of effective altruism. This is something I've been discussing in my personal life for a few months now. It is something I think a lot of people\n",
            "====================\n",
            "Introduction to effective altruism.** The following is excerpted from Part Two. This is a blog post and is a summary of what was said in it. If you would like to read part two, please subscribe to Part Two. **Dealing with criticisms of effective altruism by its critics (September 2011).**  Note that I am describing the actions of effective altruists, not the actions of the community. We are very grateful for the comments which made the piece. You can read the full post on this blog.    [1] “We’ll get the best of both worlds: to use high-quality research, to use research we’ve been building up over the last few years, to teach a new generation of effective\n",
            "====================\n",
            "Introduction to effective altruism\n",
            "Introduction: Taking a non-rational stance has a lot of advantages.  What is effective altruism?   It's hard to define effective altruism. When I first heard it, I was struck by the huge amount of thought it contained. I thought that effective altruism was the most important thing to do with your life. But when I started thinking about it more, I realized that it wasn't that simple. How does effective altruism work?  How do you know if you're doing something good? You can see how things work on this slide.  You can also see an example of the difference effective altruism makes to a common method of judging.  How do you know if you're good? You can see how\n",
            "====================\n",
            "Introduction to effective altruism. By acting without thinking, you will help to accomplish much more than you can accomplish alone. And by working together, you can be part of the most important and successful movement in the world.   Because you are an EA, you will be asked to be a \"solid\" EA. You will also be asked to show leadership qualities and dedication, and to do your best to make your EA community grow. This will lead to a higher standard of ethical and behavioural evaluations, and in general will allow you to be judged by others on a similar level.   The important factors that go into choosing an effective Altruist strategy are the ability to make the best use of your life, and the ability to make the best use of the resources\n",
            "====================\n",
            "Introduction to effective altruism-funding-read more! If you have any feedback for the charity, please let us know! and as always, keep donating! -------------------------------------------------------------------------------     \n",
            "Basic Arithmetic, Part 2\n",
            "This is a quick post for anyone who is interested in basic arithmetic. In part 1, I explained the basic idea of basic arithmetic, which is easy to understand and very useful. As with the previous posts, I will explain how this is actually done and why it is done. For part 2, I will write about some specific examples of basic arithmetic. This post is going to be very short, so I recommend you get yourself a coffee and read the first part before continuing on. I will also take the liberty of including a video of\n",
            "====================\n",
            "Introduction to effective altruism.\n",
            "Articles on effective altruism\n",
            "Good (stale) AI Safety: Is It Really a Fundamentally Better Idea?\n",
            "About the topic: I'm a behavioural economist and active member of the EA movement, so I know about AI Safety and EA issues, but I am not an EA Fundamentally Better Idea proponent.This is my attempt to help gauge whether or not the idea of EA as a generally more valuable cause area has any merit. I wanted to get this out in the open. This is my first attempt at writing a truly comprehensive post. I want to make this a useful, helpful resource. In the unlikely event that we can't find something that is fully up to date, I will provide links to future updates\n",
            "====================\n",
            "Introduction to effective altruism\n",
            "Part of this article is an introduction to effective altruism, which may be useful for other people who are not already familiar with effective altruism.It was written in January 2018. The source material is here.If you want to participate in this series, please consider attending an EA Global event in May 2019. Since it is not 100% final, I am unlikely to be able to do all the work on the front page.\n",
            "The first synthesis of nuclear war and nuclear weapons\n",
            "Michael A. Beaulieu and Michael R. Burgess (2018) — January 2018\n",
            "A synthesis of the book and the evidence on the effects of nuclear war and nuclear weapons.This is a major synthesis, and in particular aims to show that the current nuclear\n",
            "====================\n"
          ],
          "name": "stdout"
        }
      ]
    },
    {
      "cell_type": "markdown",
      "metadata": {
        "id": "oF4-PqF0Fl7R",
        "colab_type": "text"
      },
      "source": [
        "If you're creating an API based on your model and need to pass the generated text elsewhere, you can do `text = gpt2.generate(sess, return_as_list=True)[0]`\n",
        "\n",
        "You can also pass in a `prefix` to the generate function to force the text to start with a given character sequence and generate text from there (good if you add an indicator when the text starts).\n",
        "\n",
        "You can also generate multiple texts at a time by specifing `nsamples`. Unique to GPT-2, you can pass a `batch_size` to generate multiple samples in parallel, giving a massive speedup (in Colaboratory, set a maximum of 20 for `batch_size`).\n",
        "\n",
        "Other optional-but-helpful parameters for `gpt2.generate` and friends:\n",
        "\n",
        "*  **`length`**: Number of tokens to generate (default 1023, the maximum)\n",
        "* **`temperature`**: The higher the temperature, the crazier the text (default 0.7, recommended to keep between 0.7 and 1.0)\n",
        "* **`top_k`**: Limits the generated guesses to the top *k* guesses (default 0 which disables the behavior; if the generated output is super crazy, you may want to set `top_k=40`)\n",
        "* **`top_p`**: Nucleus sampling: limits the generated guesses to a cumulative probability. (gets good results on a dataset with `top_p=0.9`)\n",
        "* **`truncate`**: Truncates the input text until a given sequence, excluding that sequence (e.g. if `truncate='<|endoftext|>'`, the returned text will include everything before the first `<|endoftext|>`). It may be useful to combine this with a smaller `length` if the input texts are short.\n",
        "*  **`include_prefix`**: If using `truncate` and `include_prefix=False`, the specified `prefix` will not be included in the returned text."
      ]
    },
    {
      "cell_type": "markdown",
      "metadata": {
        "id": "ig-KVgkCDCKD",
        "colab_type": "text"
      },
      "source": [
        "# Etcetera\n",
        "\n",
        "If the notebook has errors (e.g. GPU Sync Fail), force-kill the Colaboratory virtual machine and restart it with the command below:"
      ]
    },
    {
      "cell_type": "code",
      "metadata": {
        "id": "rIHiVP53FnsX",
        "colab_type": "code",
        "colab": {}
      },
      "source": [
        "!kill -9 -1"
      ],
      "execution_count": 0,
      "outputs": []
    },
    {
      "cell_type": "markdown",
      "metadata": {
        "id": "wmTXWNUygS5E",
        "colab_type": "text"
      },
      "source": [
        "# LICENSE\n",
        "\n",
        "MIT License\n",
        "\n",
        "Copyright (c) 2019 Max Woolf\n",
        "\n",
        "Permission is hereby granted, free of charge, to any person obtaining a copy\n",
        "of this software and associated documentation files (the \"Software\"), to deal\n",
        "in the Software without restriction, including without limitation the rights\n",
        "to use, copy, modify, merge, publish, distribute, sublicense, and/or sell\n",
        "copies of the Software, and to permit persons to whom the Software is\n",
        "furnished to do so, subject to the following conditions:\n",
        "\n",
        "The above copyright notice and this permission notice shall be included in all\n",
        "copies or substantial portions of the Software.\n",
        "\n",
        "THE SOFTWARE IS PROVIDED \"AS IS\", WITHOUT WARRANTY OF ANY KIND, EXPRESS OR\n",
        "IMPLIED, INCLUDING BUT NOT LIMITED TO THE WARRANTIES OF MERCHANTABILITY,\n",
        "FITNESS FOR A PARTICULAR PURPOSE AND NONINFRINGEMENT. IN NO EVENT SHALL THE\n",
        "AUTHORS OR COPYRIGHT HOLDERS BE LIABLE FOR ANY CLAIM, DAMAGES OR OTHER\n",
        "LIABILITY, WHETHER IN AN ACTION OF CONTRACT, TORT OR OTHERWISE, ARISING FROM,\n",
        "OUT OF OR IN CONNECTION WITH THE SOFTWARE OR THE USE OR OTHER DEALINGS IN THE\n",
        "SOFTWARE."
      ]
    }
  ]
}