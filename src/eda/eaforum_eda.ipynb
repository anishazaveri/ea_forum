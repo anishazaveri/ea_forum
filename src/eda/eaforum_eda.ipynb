{
 "cells": [
  {
   "cell_type": "code",
   "execution_count": 19,
   "metadata": {
    "ExecuteTime": {
     "end_time": "2020-05-11T13:49:45.420784Z",
     "start_time": "2020-05-11T13:49:45.389782Z"
    }
   },
   "outputs": [],
   "source": [
    "import pandas as pd\n",
    "from bs4 import BeautifulSoup\n",
    "import unicodedata\n",
    "from wordcloud import WordCloud, STOPWORDS, ImageColorGenerator\n",
    "import matplotlib.pyplot as plt\n",
    "%matplotlib inline\n",
    "from nltk.tokenize import word_tokenize\n",
    "import string\n",
    "import contractions\n",
    "from nltk.corpus import stopwords\n",
    "from sklearn.feature_extraction.text import CountVectorizer\n",
    "from nltk.stem import PorterStemmer \n",
    "import re\n",
    "from plotnine import *"
   ]
  },
  {
   "cell_type": "markdown",
   "metadata": {},
   "source": [
    "### Join and clean dfs"
   ]
  },
  {
   "cell_type": "code",
   "execution_count": 3,
   "metadata": {
    "ExecuteTime": {
     "end_time": "2020-05-11T13:47:26.580316Z",
     "start_time": "2020-05-11T13:47:24.808316Z"
    }
   },
   "outputs": [
    {
     "data": {
      "text/html": [
       "<div>\n",
       "<style scoped>\n",
       "    .dataframe tbody tr th:only-of-type {\n",
       "        vertical-align: middle;\n",
       "    }\n",
       "\n",
       "    .dataframe tbody tr th {\n",
       "        vertical-align: top;\n",
       "    }\n",
       "\n",
       "    .dataframe thead th {\n",
       "        text-align: right;\n",
       "    }\n",
       "</style>\n",
       "<table border=\"1\" class=\"dataframe\">\n",
       "  <thead>\n",
       "    <tr style=\"text-align: right;\">\n",
       "      <th></th>\n",
       "      <th>date</th>\n",
       "      <th>title</th>\n",
       "      <th>author</th>\n",
       "      <th>num_comments</th>\n",
       "      <th>content</th>\n",
       "    </tr>\n",
       "  </thead>\n",
       "  <tbody>\n",
       "    <tr>\n",
       "      <td>0</td>\n",
       "      <td>2013-06-21</td>\n",
       "      <td>Cheerfully</td>\n",
       "      <td>Julia_Wise</td>\n",
       "      <td>22 comments</td>\n",
       "      <td>&lt;div class=\"PostsPage-postContent\"&gt;&lt;div&gt;&lt;p&gt;Whe...</td>\n",
       "    </tr>\n",
       "    <tr>\n",
       "      <td>1</td>\n",
       "      <td>2013-05-13</td>\n",
       "      <td>What is effective altruism?</td>\n",
       "      <td>William_MacAskill</td>\n",
       "      <td>16 comments</td>\n",
       "      <td>&lt;div class=\"PostsPage-postContent\"&gt;&lt;div&gt;&lt;p&gt;&lt;im...</td>\n",
       "    </tr>\n",
       "    <tr>\n",
       "      <td>2</td>\n",
       "      <td>2013-11-05</td>\n",
       "      <td>A Long-run perspective on strategic cause sele...</td>\n",
       "      <td>Carl_Shulman</td>\n",
       "      <td>29 comments</td>\n",
       "      <td>&lt;div class=\"PostsPage-postContent\"&gt;&lt;div&gt;&lt;p&gt;&lt;em...</td>\n",
       "    </tr>\n",
       "    <tr>\n",
       "      <td>3</td>\n",
       "      <td>2013-08-19</td>\n",
       "      <td>Preventing human extinction</td>\n",
       "      <td>Peter_Singer</td>\n",
       "      <td>8 comments</td>\n",
       "      <td>&lt;div class=\"PostsPage-postContent\"&gt;&lt;div&gt;&lt;p&gt;&lt;em...</td>\n",
       "    </tr>\n",
       "    <tr>\n",
       "      <td>4</td>\n",
       "      <td>2013-05-27</td>\n",
       "      <td>A proposed adjustment to the astronomical wast...</td>\n",
       "      <td>Nick_Beckstead</td>\n",
       "      <td>1 comment</td>\n",
       "      <td>&lt;div class=\"PostsPage-postContent\"&gt;&lt;div&gt;&lt;p&gt;&lt;/p...</td>\n",
       "    </tr>\n",
       "  </tbody>\n",
       "</table>\n",
       "</div>"
      ],
      "text/plain": [
       "        date                                              title  \\\n",
       "0 2013-06-21                                         Cheerfully   \n",
       "1 2013-05-13                        What is effective altruism?   \n",
       "2 2013-11-05  A Long-run perspective on strategic cause sele...   \n",
       "3 2013-08-19                        Preventing human extinction   \n",
       "4 2013-05-27  A proposed adjustment to the astronomical wast...   \n",
       "\n",
       "              author num_comments  \\\n",
       "0         Julia_Wise  22 comments   \n",
       "1  William_MacAskill  16 comments   \n",
       "2       Carl_Shulman  29 comments   \n",
       "3       Peter_Singer   8 comments   \n",
       "4     Nick_Beckstead    1 comment   \n",
       "\n",
       "                                             content  \n",
       "0  <div class=\"PostsPage-postContent\"><div><p>Whe...  \n",
       "1  <div class=\"PostsPage-postContent\"><div><p><im...  \n",
       "2  <div class=\"PostsPage-postContent\"><div><p><em...  \n",
       "3  <div class=\"PostsPage-postContent\"><div><p><em...  \n",
       "4  <div class=\"PostsPage-postContent\"><div><p></p...  "
      ]
     },
     "execution_count": 3,
     "metadata": {},
     "output_type": "execute_result"
    }
   ],
   "source": [
    "# join dfs\n",
    "json_names = [str(x)+'_data.json' for x in [2013, 2014, 2015, 2016, 2017, 2018, 2019, 2020]]\n",
    "dfs = [pd.read_json('../scrapy/scrapy_eaforum/' + json_name) for json_name in json_names]\n",
    "df = pd.concat(dfs)\n",
    "df.head()"
   ]
  },
  {
   "cell_type": "code",
   "execution_count": 4,
   "metadata": {
    "ExecuteTime": {
     "end_time": "2020-05-11T13:47:26.612319Z",
     "start_time": "2020-05-11T13:47:26.584317Z"
    }
   },
   "outputs": [
    {
     "data": {
      "text/plain": [
       "date            1\n",
       "title           1\n",
       "author          7\n",
       "num_comments    1\n",
       "content         1\n",
       "dtype: int64"
      ]
     },
     "execution_count": 4,
     "metadata": {},
     "output_type": "execute_result"
    }
   ],
   "source": [
    "df.isna().sum()"
   ]
  },
  {
   "cell_type": "code",
   "execution_count": 5,
   "metadata": {
    "ExecuteTime": {
     "end_time": "2020-05-11T13:47:26.659316Z",
     "start_time": "2020-05-11T13:47:26.618318Z"
    }
   },
   "outputs": [],
   "source": [
    "df = df[~df['content'].isna()]\n",
    "df['author'] = df['author'].fillna('anonymous')"
   ]
  },
  {
   "cell_type": "code",
   "execution_count": 6,
   "metadata": {
    "ExecuteTime": {
     "end_time": "2020-05-11T13:47:26.689316Z",
     "start_time": "2020-05-11T13:47:26.663316Z"
    }
   },
   "outputs": [],
   "source": [
    "# remove recent posts\n",
    "df = df[df['date']<'04-15-2020']"
   ]
  },
  {
   "cell_type": "code",
   "execution_count": 7,
   "metadata": {
    "ExecuteTime": {
     "end_time": "2020-05-11T13:47:26.705317Z",
     "start_time": "2020-05-11T13:47:26.693317Z"
    }
   },
   "outputs": [],
   "source": [
    "def extract_text(content):\n",
    "    soup = BeautifulSoup(content, 'html.parser')\n",
    "    #remove style tags:\n",
    "    for tag in soup.find_all('style'):\n",
    "        tag.replaceWith('')\n",
    "    #remove all other tags\n",
    "    text = soup.get_text()  \n",
    "    #fix unicode\n",
    "    text = unicodedata.normalize(\"NFKD\", text)    \n",
    "    #replace line breaks\n",
    "    text = text.replace('\\n', ' ')\n",
    "    return text\n",
    "    "
   ]
  },
  {
   "cell_type": "code",
   "execution_count": 8,
   "metadata": {
    "ExecuteTime": {
     "end_time": "2020-05-11T13:47:48.741485Z",
     "start_time": "2020-05-11T13:47:26.713319Z"
    }
   },
   "outputs": [],
   "source": [
    "df['content'] = df['content'].apply(extract_text)"
   ]
  },
  {
   "cell_type": "code",
   "execution_count": 9,
   "metadata": {
    "ExecuteTime": {
     "end_time": "2020-05-11T13:47:48.788486Z",
     "start_time": "2020-05-11T13:47:48.750487Z"
    }
   },
   "outputs": [
    {
     "data": {
      "text/html": [
       "<div>\n",
       "<style scoped>\n",
       "    .dataframe tbody tr th:only-of-type {\n",
       "        vertical-align: middle;\n",
       "    }\n",
       "\n",
       "    .dataframe tbody tr th {\n",
       "        vertical-align: top;\n",
       "    }\n",
       "\n",
       "    .dataframe thead th {\n",
       "        text-align: right;\n",
       "    }\n",
       "</style>\n",
       "<table border=\"1\" class=\"dataframe\">\n",
       "  <thead>\n",
       "    <tr style=\"text-align: right;\">\n",
       "      <th></th>\n",
       "      <th>date</th>\n",
       "      <th>title</th>\n",
       "      <th>author</th>\n",
       "      <th>num_comments</th>\n",
       "      <th>content</th>\n",
       "    </tr>\n",
       "  </thead>\n",
       "  <tbody>\n",
       "    <tr>\n",
       "      <td>0</td>\n",
       "      <td>2013-06-21</td>\n",
       "      <td>Cheerfully</td>\n",
       "      <td>Julia_Wise</td>\n",
       "      <td>22 comments</td>\n",
       "      <td>When I was younger, I was extremely struck by ...</td>\n",
       "    </tr>\n",
       "    <tr>\n",
       "      <td>1</td>\n",
       "      <td>2013-05-13</td>\n",
       "      <td>What is effective altruism?</td>\n",
       "      <td>William_MacAskill</td>\n",
       "      <td>16 comments</td>\n",
       "      <td>Most forms of do-gooding start out with a Wh...</td>\n",
       "    </tr>\n",
       "    <tr>\n",
       "      <td>2</td>\n",
       "      <td>2013-11-05</td>\n",
       "      <td>A Long-run perspective on strategic cause sele...</td>\n",
       "      <td>Carl_Shulman</td>\n",
       "      <td>29 comments</td>\n",
       "      <td>Co-written by Nick Beckstead and Carl Shulman ...</td>\n",
       "    </tr>\n",
       "    <tr>\n",
       "      <td>3</td>\n",
       "      <td>2013-08-19</td>\n",
       "      <td>Preventing human extinction</td>\n",
       "      <td>Peter_Singer</td>\n",
       "      <td>8 comments</td>\n",
       "      <td>Co-authored by Nick Beckstead, Peter Singer, a...</td>\n",
       "    </tr>\n",
       "    <tr>\n",
       "      <td>4</td>\n",
       "      <td>2013-05-27</td>\n",
       "      <td>A proposed adjustment to the astronomical wast...</td>\n",
       "      <td>Nick_Beckstead</td>\n",
       "      <td>1 comment</td>\n",
       "      <td>An existential risk is a risk “that threatens...</td>\n",
       "    </tr>\n",
       "  </tbody>\n",
       "</table>\n",
       "</div>"
      ],
      "text/plain": [
       "        date                                              title  \\\n",
       "0 2013-06-21                                         Cheerfully   \n",
       "1 2013-05-13                        What is effective altruism?   \n",
       "2 2013-11-05  A Long-run perspective on strategic cause sele...   \n",
       "3 2013-08-19                        Preventing human extinction   \n",
       "4 2013-05-27  A proposed adjustment to the astronomical wast...   \n",
       "\n",
       "              author num_comments  \\\n",
       "0         Julia_Wise  22 comments   \n",
       "1  William_MacAskill  16 comments   \n",
       "2       Carl_Shulman  29 comments   \n",
       "3       Peter_Singer   8 comments   \n",
       "4     Nick_Beckstead    1 comment   \n",
       "\n",
       "                                             content  \n",
       "0  When I was younger, I was extremely struck by ...  \n",
       "1    Most forms of do-gooding start out with a Wh...  \n",
       "2  Co-written by Nick Beckstead and Carl Shulman ...  \n",
       "3  Co-authored by Nick Beckstead, Peter Singer, a...  \n",
       "4   An existential risk is a risk “that threatens...  "
      ]
     },
     "execution_count": 9,
     "metadata": {},
     "output_type": "execute_result"
    }
   ],
   "source": [
    "df.head()"
   ]
  },
  {
   "cell_type": "code",
   "execution_count": 10,
   "metadata": {
    "ExecuteTime": {
     "end_time": "2020-05-11T13:47:48.867487Z",
     "start_time": "2020-05-11T13:47:48.824486Z"
    }
   },
   "outputs": [],
   "source": [
    "df['num_comments'] = df['num_comments'].str.replace(' comments', '').str.replace(' comment', '').str.replace('No', '0').astype(int)"
   ]
  },
  {
   "cell_type": "code",
   "execution_count": 11,
   "metadata": {
    "ExecuteTime": {
     "end_time": "2020-05-11T13:47:51.921073Z",
     "start_time": "2020-05-11T13:47:48.882486Z"
    }
   },
   "outputs": [],
   "source": [
    "df.to_csv('../../data/ea_forum/data_eaforum.csv')"
   ]
  },
  {
   "cell_type": "markdown",
   "metadata": {},
   "source": [
    "### EDA: Comments"
   ]
  },
  {
   "cell_type": "code",
   "execution_count": 35,
   "metadata": {
    "ExecuteTime": {
     "end_time": "2020-05-11T13:52:56.635329Z",
     "start_time": "2020-05-11T13:52:56.607278Z"
    }
   },
   "outputs": [],
   "source": [
    "count_posts = pd.DataFrame(df.groupby(df['date'].dt.year).count()['title']).reset_index().rename(columns = {'title': 'count', 'date': 'year'})\n",
    "count_posts = count_posts[count_posts['year']<2020]"
   ]
  },
  {
   "cell_type": "code",
   "execution_count": 92,
   "metadata": {
    "ExecuteTime": {
     "end_time": "2020-05-11T14:58:22.874188Z",
     "start_time": "2020-05-11T14:58:21.716983Z"
    }
   },
   "outputs": [
    {
     "name": "stderr",
     "output_type": "stream",
     "text": [
      "C:\\Users\\light\\Anaconda3\\lib\\site-packages\\plotnine\\ggplot.py:729: PlotnineWarning: Saving 3 x 3 in image.\n",
      "  from_inches(height, units), units), PlotnineWarning)\n",
      "C:\\Users\\light\\Anaconda3\\lib\\site-packages\\plotnine\\ggplot.py:730: PlotnineWarning: Filename: ../../out/images/posts_year.png\n",
      "  warn('Filename: {}'.format(filename), PlotnineWarning)\n"
     ]
    }
   ],
   "source": [
    "p = (ggplot(count_posts, aes(x='year', y='count'))\n",
    " +geom_col(fill='red', color='black') \n",
    " +theme_minimal()\n",
    " +theme(figure_size=(3,3), axis_text_x = element_text(angle=90))\n",
    " +scale_x_continuous(breaks=count_posts['year'].to_list())\n",
    " +xlab('')\n",
    " +ylab('Number of posts')\n",
    ")\n",
    "p.save(filename='../../out/images/posts_year.png', dpi=300)"
   ]
  },
  {
   "cell_type": "code",
   "execution_count": 88,
   "metadata": {
    "ExecuteTime": {
     "end_time": "2020-05-11T14:35:41.469450Z",
     "start_time": "2020-05-11T14:35:41.398447Z"
    },
    "scrolled": true
   },
   "outputs": [
    {
     "data": {
      "text/html": [
       "<div>\n",
       "<style scoped>\n",
       "    .dataframe tbody tr th:only-of-type {\n",
       "        vertical-align: middle;\n",
       "    }\n",
       "\n",
       "    .dataframe tbody tr th {\n",
       "        vertical-align: top;\n",
       "    }\n",
       "\n",
       "    .dataframe thead th {\n",
       "        text-align: right;\n",
       "    }\n",
       "</style>\n",
       "<table border=\"1\" class=\"dataframe\">\n",
       "  <thead>\n",
       "    <tr style=\"text-align: right;\">\n",
       "      <th></th>\n",
       "      <th>date</th>\n",
       "      <th>title</th>\n",
       "      <th>author</th>\n",
       "      <th>num_comments</th>\n",
       "    </tr>\n",
       "  </thead>\n",
       "  <tbody>\n",
       "    <tr>\n",
       "      <td>705</td>\n",
       "      <td>2019-04-23</td>\n",
       "      <td>Long-Term Future Fund: April 2019 grant recomm...</td>\n",
       "      <td>Habryka</td>\n",
       "      <td>240</td>\n",
       "    </tr>\n",
       "    <tr>\n",
       "      <td>14</td>\n",
       "      <td>2017-10-26</td>\n",
       "      <td>Why &amp; How to Make Progress on Diversity &amp; Incl...</td>\n",
       "      <td>Kelly_Witwicki</td>\n",
       "      <td>235</td>\n",
       "    </tr>\n",
       "    <tr>\n",
       "      <td>504</td>\n",
       "      <td>2019-11-15</td>\n",
       "      <td>I'm Buck Shlegeris, I do research and outreach...</td>\n",
       "      <td>Buck</td>\n",
       "      <td>230</td>\n",
       "    </tr>\n",
       "    <tr>\n",
       "      <td>7</td>\n",
       "      <td>2016-10-24</td>\n",
       "      <td>Concerns with Intentional Insights</td>\n",
       "      <td>Jeff_Kaufman</td>\n",
       "      <td>186</td>\n",
       "    </tr>\n",
       "    <tr>\n",
       "      <td>622</td>\n",
       "      <td>2019-02-26</td>\n",
       "      <td>After one year of applying for EA jobs: It is ...</td>\n",
       "      <td>EA applicant</td>\n",
       "      <td>182</td>\n",
       "    </tr>\n",
       "    <tr>\n",
       "      <td>37</td>\n",
       "      <td>2020-01-16</td>\n",
       "      <td>Growth and the case against randomista develop...</td>\n",
       "      <td>HaukeHillebrandt</td>\n",
       "      <td>168</td>\n",
       "    </tr>\n",
       "    <tr>\n",
       "      <td>70</td>\n",
       "      <td>2014-09-15</td>\n",
       "      <td>Open Thread</td>\n",
       "      <td>RyanCarey</td>\n",
       "      <td>163</td>\n",
       "    </tr>\n",
       "    <tr>\n",
       "      <td>184</td>\n",
       "      <td>2017-11-11</td>\n",
       "      <td>An Exploration of Sexual Violence Reduction fo...</td>\n",
       "      <td>Kathy_Forth</td>\n",
       "      <td>156</td>\n",
       "    </tr>\n",
       "    <tr>\n",
       "      <td>75</td>\n",
       "      <td>2014-10-22</td>\n",
       "      <td>Should Giving What We Can change its Pledge?</td>\n",
       "      <td>Michelle_Hutchinson</td>\n",
       "      <td>144</td>\n",
       "    </tr>\n",
       "    <tr>\n",
       "      <td>365</td>\n",
       "      <td>2019-09-03</td>\n",
       "      <td>Are we living at the most influential time in ...</td>\n",
       "      <td>William_MacAskill</td>\n",
       "      <td>140</td>\n",
       "    </tr>\n",
       "  </tbody>\n",
       "</table>\n",
       "</div>"
      ],
      "text/plain": [
       "          date                                              title  \\\n",
       "705 2019-04-23  Long-Term Future Fund: April 2019 grant recomm...   \n",
       "14  2017-10-26  Why & How to Make Progress on Diversity & Incl...   \n",
       "504 2019-11-15  I'm Buck Shlegeris, I do research and outreach...   \n",
       "7   2016-10-24                 Concerns with Intentional Insights   \n",
       "622 2019-02-26  After one year of applying for EA jobs: It is ...   \n",
       "37  2020-01-16  Growth and the case against randomista develop...   \n",
       "70  2014-09-15                                        Open Thread   \n",
       "184 2017-11-11  An Exploration of Sexual Violence Reduction fo...   \n",
       "75  2014-10-22      Should Giving What We Can change its Pledge?    \n",
       "365 2019-09-03  Are we living at the most influential time in ...   \n",
       "\n",
       "                  author  num_comments  \n",
       "705              Habryka           240  \n",
       "14        Kelly_Witwicki           235  \n",
       "504                 Buck           230  \n",
       "7           Jeff_Kaufman           186  \n",
       "622         EA applicant           182  \n",
       "37      HaukeHillebrandt           168  \n",
       "70             RyanCarey           163  \n",
       "184          Kathy_Forth           156  \n",
       "75   Michelle_Hutchinson           144  \n",
       "365    William_MacAskill           140  "
      ]
     },
     "execution_count": 88,
     "metadata": {},
     "output_type": "execute_result"
    }
   ],
   "source": [
    "posts_comments = df.sort_values(by='num_comments', ascending=False)[['date', 'title', 'author', 'num_comments']].head(10)\n",
    "posts_comments"
   ]
  },
  {
   "cell_type": "code",
   "execution_count": 90,
   "metadata": {
    "ExecuteTime": {
     "end_time": "2020-05-11T14:35:52.751939Z",
     "start_time": "2020-05-11T14:35:52.740361Z"
    }
   },
   "outputs": [],
   "source": [
    "posts_comments.to_csv('../../out/tables/posts_comments.csv', index=False)"
   ]
  },
  {
   "cell_type": "code",
   "execution_count": 79,
   "metadata": {
    "ExecuteTime": {
     "end_time": "2020-05-11T14:07:35.057374Z",
     "start_time": "2020-05-11T14:07:35.031860Z"
    }
   },
   "outputs": [
    {
     "data": {
      "text/plain": [
       "author\n",
       "RyanCarey            1231\n",
       "Peter_Hurford        1137\n",
       "William_MacAskill     862\n",
       "Milan_Griffes         789\n",
       "kbog                  654\n",
       "Name: num_comments, dtype: int32"
      ]
     },
     "execution_count": 79,
     "metadata": {},
     "output_type": "execute_result"
    }
   ],
   "source": [
    "df.groupby('author')['num_comments'].sum().sort_values(ascending=False).head()"
   ]
  },
  {
   "cell_type": "code",
   "execution_count": 80,
   "metadata": {
    "ExecuteTime": {
     "end_time": "2020-05-11T14:07:49.253565Z",
     "start_time": "2020-05-11T14:07:49.202568Z"
    }
   },
   "outputs": [
    {
     "data": {
      "text/plain": [
       "author\n",
       "Aaron Gertler    88\n",
       "Milan_Griffes    83\n",
       "Peter_Hurford    74\n",
       "RyanCarey        66\n",
       "Tom_Ash          58\n",
       "Name: title, dtype: int64"
      ]
     },
     "execution_count": 80,
     "metadata": {},
     "output_type": "execute_result"
    }
   ],
   "source": [
    "df.groupby('author')['title'].count().sort_values(ascending=False).head()"
   ]
  },
  {
   "cell_type": "code",
   "execution_count": 13,
   "metadata": {
    "ExecuteTime": {
     "end_time": "2020-05-07T21:12:51.502557Z",
     "start_time": "2020-05-07T21:12:51.447025Z"
    }
   },
   "outputs": [
    {
     "data": {
      "text/plain": [
       "author\n",
       "EA applicant       182.0\n",
       "Kelly_Witwicki     119.0\n",
       "throwaway           96.0\n",
       "Matthew_Barnett     82.0\n",
       "AlyssaVance         80.0\n",
       "                   ...  \n",
       "Pigman               0.0\n",
       "David_Goll           0.0\n",
       "curiousepic          0.0\n",
       "mattvdm              0.0\n",
       "JDBauman             0.0\n",
       "Name: num_comments, Length: 744, dtype: float64"
      ]
     },
     "execution_count": 13,
     "metadata": {},
     "output_type": "execute_result"
    }
   ],
   "source": [
    "(df.groupby('author')['num_comments'].sum()/df.groupby('author')['num_comments'].count()).sort_values(ascending=False)"
   ]
  },
  {
   "cell_type": "markdown",
   "metadata": {},
   "source": [
    "### Clean text for wordcloud"
   ]
  },
  {
   "cell_type": "code",
   "execution_count": 14,
   "metadata": {
    "ExecuteTime": {
     "end_time": "2020-05-07T21:15:50.773562Z",
     "start_time": "2020-05-07T21:12:51.508178Z"
    }
   },
   "outputs": [],
   "source": [
    "all_text = df['content'].sum()\n",
    "#expand contractions\n",
    "all_text = ' '.join([contractions.fix(w) for w in all_text.split()])"
   ]
  },
  {
   "cell_type": "code",
   "execution_count": 15,
   "metadata": {
    "ExecuteTime": {
     "end_time": "2020-05-07T21:18:16.022633Z",
     "start_time": "2020-05-07T21:15:50.781687Z"
    }
   },
   "outputs": [],
   "source": [
    "# split into words\n",
    "tokens = word_tokenize(all_text)\n",
    "# convert to lower case\n",
    "tokens = [w.lower() for w in tokens]\n",
    "# remove punctuation\n",
    "tokens = [w for w in tokens if w not in string.punctuation] \n",
    "# filter out stop words\n",
    "stop_words = set(stopwords.words('english'))\n",
    "tokens = [w for w in tokens if not w in stop_words]\n",
    "#remove numbers\n",
    "tokens = [w for w in tokens if not re.match('.*\\d.*', w)]\n",
    "#remove https and wwws\n",
    "tokens = [w for w in tokens if not re.match('.*www.*', w)]\n",
    "tokens = [w for w in tokens if not re.match('.*http.*', w)]"
   ]
  },
  {
   "cell_type": "code",
   "execution_count": 16,
   "metadata": {
    "ExecuteTime": {
     "end_time": "2020-05-07T21:18:16.394284Z",
     "start_time": "2020-05-07T21:18:16.030879Z"
    }
   },
   "outputs": [],
   "source": [
    "cleaned_text = ' '.join(tokens)"
   ]
  },
  {
   "cell_type": "code",
   "execution_count": 17,
   "metadata": {
    "ExecuteTime": {
     "end_time": "2020-05-07T21:18:16.425000Z",
     "start_time": "2020-05-07T21:18:16.400652Z"
    }
   },
   "outputs": [
    {
     "data": {
      "text/plain": [
       "2627677"
      ]
     },
     "execution_count": 17,
     "metadata": {},
     "output_type": "execute_result"
    }
   ],
   "source": [
    "len(tokens)"
   ]
  },
  {
   "cell_type": "code",
   "execution_count": 18,
   "metadata": {
    "ExecuteTime": {
     "end_time": "2020-05-07T21:20:51.438514Z",
     "start_time": "2020-05-07T21:18:16.429003Z"
    }
   },
   "outputs": [
    {
     "data": {
      "image/png": "[encoded data removed]",
      "text/plain": [
       "<Figure size 432x288 with 1 Axes>"
      ]
     },
     "metadata": {
      "needs_background": "light"
     },
     "output_type": "display_data"
    }
   ],
   "source": [
    "# Create and generate a word cloud image:\n",
    "wordcloud = WordCloud(background_color='white', width= 4000, height = 2000, max_words = 400).generate(cleaned_text)\n",
    "\n",
    "# Display the generated image:\n",
    "plt.imshow(wordcloud, interpolation='bilinear')\n",
    "plt.axis(\"off\")\n",
    "plt.show()"
   ]
  },
  {
   "cell_type": "code",
   "execution_count": 19,
   "metadata": {
    "ExecuteTime": {
     "end_time": "2020-05-07T21:20:53.184851Z",
     "start_time": "2020-05-07T21:20:51.442515Z"
    }
   },
   "outputs": [
    {
     "data": {
      "text/plain": [
       "<wordcloud.wordcloud.WordCloud at 0x26f86f18978>"
      ]
     },
     "execution_count": 19,
     "metadata": {},
     "output_type": "execute_result"
    }
   ],
   "source": [
    "wordcloud.to_file('../../wordclouds/eaforum_wordcloud.jpg')"
   ]
  },
  {
   "cell_type": "markdown",
   "metadata": {
    "ExecuteTime": {
     "end_time": "2020-05-06T16:26:50.818366Z",
     "start_time": "2020-05-06T16:26:50.810369Z"
    }
   },
   "source": [
    "### Make GPT2 text"
   ]
  },
  {
   "cell_type": "code",
   "execution_count": 20,
   "metadata": {
    "ExecuteTime": {
     "end_time": "2020-05-07T21:20:54.988554Z",
     "start_time": "2020-05-07T21:20:53.188853Z"
    }
   },
   "outputs": [],
   "source": [
    "with open('../../data/ea_forum/eaforum_for_gpt2.txt', 'w+', encoding='utf-8') as f:\n",
    "    for _, row in df.iterrows():\n",
    "        f.write(row['title'] + '\\n')\n",
    "        f.write(row['content'] + '\\n')"
   ]
  },
  {
   "cell_type": "markdown",
   "metadata": {},
   "source": [
    "### Make BOW"
   ]
  },
  {
   "cell_type": "code",
   "execution_count": 21,
   "metadata": {
    "ExecuteTime": {
     "end_time": "2020-05-07T21:20:55.067554Z",
     "start_time": "2020-05-07T21:20:54.992554Z"
    }
   },
   "outputs": [],
   "source": [
    "# use cleaned text to make bag of words along with ssc\n",
    "with open('../../data/ssc/ssc_for_BOW.txt', 'r+', encoding='utf-8') as f:\n",
    "    ssc_cleaned = f.read()"
   ]
  },
  {
   "cell_type": "code",
   "execution_count": 22,
   "metadata": {
    "ExecuteTime": {
     "end_time": "2020-05-07T21:20:55.083554Z",
     "start_time": "2020-05-07T21:20:55.071552Z"
    }
   },
   "outputs": [
    {
     "data": {
      "text/plain": [
       "20198740"
      ]
     },
     "execution_count": 22,
     "metadata": {},
     "output_type": "execute_result"
    }
   ],
   "source": [
    "len(cleaned_text)"
   ]
  },
  {
   "cell_type": "code",
   "execution_count": 23,
   "metadata": {
    "ExecuteTime": {
     "end_time": "2020-05-07T21:20:55.114554Z",
     "start_time": "2020-05-07T21:20:55.092552Z"
    }
   },
   "outputs": [],
   "source": [
    "corpus = [cleaned_text, ssc_cleaned]\n",
    "vectorizer = CountVectorizer(analyzer = 'word', lowercase=False, stop_words=None)"
   ]
  },
  {
   "cell_type": "code",
   "execution_count": 24,
   "metadata": {
    "ExecuteTime": {
     "end_time": "2020-05-07T21:21:05.104594Z",
     "start_time": "2020-05-07T21:20:55.124551Z"
    }
   },
   "outputs": [],
   "source": [
    "bow = vectorizer.fit_transform(corpus)"
   ]
  },
  {
   "cell_type": "code",
   "execution_count": 25,
   "metadata": {
    "ExecuteTime": {
     "end_time": "2020-05-07T21:21:05.350594Z",
     "start_time": "2020-05-07T21:21:05.108596Z"
    }
   },
   "outputs": [],
   "source": [
    "bow_df = pd.DataFrame(bow.toarray(), index=['ea_forum', 'ssc'], columns=vectorizer.get_feature_names())"
   ]
  },
  {
   "cell_type": "code",
   "execution_count": 27,
   "metadata": {
    "ExecuteTime": {
     "end_time": "2020-05-07T21:34:12.047416Z",
     "start_time": "2020-05-07T21:34:12.007415Z"
    }
   },
   "outputs": [
    {
     "data": {
      "text/html": [
       "<div>\n",
       "<style scoped>\n",
       "    .dataframe tbody tr th:only-of-type {\n",
       "        vertical-align: middle;\n",
       "    }\n",
       "\n",
       "    .dataframe tbody tr th {\n",
       "        vertical-align: top;\n",
       "    }\n",
       "\n",
       "    .dataframe thead th {\n",
       "        text-align: right;\n",
       "    }\n",
       "</style>\n",
       "<table border=\"1\" class=\"dataframe\">\n",
       "  <thead>\n",
       "    <tr style=\"text-align: right;\">\n",
       "      <th></th>\n",
       "      <th>__</th>\n",
       "      <th>___</th>\n",
       "      <th>____</th>\n",
       "      <th>______</th>\n",
       "      <th>_______</th>\n",
       "      <th>________</th>\n",
       "      <th>__________</th>\n",
       "      <th>__________________________</th>\n",
       "      <th>______________________________________</th>\n",
       "      <th>______________________________________________</th>\n",
       "      <th>...</th>\n",
       "      <th>ᴀᴅ</th>\n",
       "      <th>ẟp</th>\n",
       "      <th>ノಠل</th>\n",
       "      <th>兼愛</th>\n",
       "      <th>宋庆龄幼儿园</th>\n",
       "      <th>官話</th>\n",
       "      <th>有效利他主义</th>\n",
       "      <th>生化危机</th>\n",
       "      <th>生存危机</th>\n",
       "      <th>老外</th>\n",
       "    </tr>\n",
       "  </thead>\n",
       "  <tbody>\n",
       "    <tr>\n",
       "      <td>ea_forum</td>\n",
       "      <td>3</td>\n",
       "      <td>2</td>\n",
       "      <td>4</td>\n",
       "      <td>0</td>\n",
       "      <td>1</td>\n",
       "      <td>1</td>\n",
       "      <td>0</td>\n",
       "      <td>1</td>\n",
       "      <td>1</td>\n",
       "      <td>3</td>\n",
       "      <td>...</td>\n",
       "      <td>1</td>\n",
       "      <td>1</td>\n",
       "      <td>1</td>\n",
       "      <td>1</td>\n",
       "      <td>0</td>\n",
       "      <td>0</td>\n",
       "      <td>1</td>\n",
       "      <td>1</td>\n",
       "      <td>1</td>\n",
       "      <td>0</td>\n",
       "    </tr>\n",
       "    <tr>\n",
       "      <td>ssc</td>\n",
       "      <td>0</td>\n",
       "      <td>3</td>\n",
       "      <td>0</td>\n",
       "      <td>1</td>\n",
       "      <td>0</td>\n",
       "      <td>2</td>\n",
       "      <td>1</td>\n",
       "      <td>0</td>\n",
       "      <td>0</td>\n",
       "      <td>0</td>\n",
       "      <td>...</td>\n",
       "      <td>0</td>\n",
       "      <td>0</td>\n",
       "      <td>0</td>\n",
       "      <td>0</td>\n",
       "      <td>1</td>\n",
       "      <td>1</td>\n",
       "      <td>0</td>\n",
       "      <td>0</td>\n",
       "      <td>0</td>\n",
       "      <td>1</td>\n",
       "    </tr>\n",
       "  </tbody>\n",
       "</table>\n",
       "<p>2 rows × 79453 columns</p>\n",
       "</div>"
      ],
      "text/plain": [
       "          __  ___  ____  ______  _______  ________  __________  \\\n",
       "ea_forum   3    2     4       0        1         1           0   \n",
       "ssc        0    3     0       1        0         2           1   \n",
       "\n",
       "          __________________________  ______________________________________  \\\n",
       "ea_forum                           1                                       1   \n",
       "ssc                                0                                       0   \n",
       "\n",
       "          ______________________________________________  ...  ᴀᴅ  ẟp  ノಠل  \\\n",
       "ea_forum                                               3  ...   1   1    1   \n",
       "ssc                                                    0  ...   0   0    0   \n",
       "\n",
       "          兼愛  宋庆龄幼儿园  官話  有效利他主义  生化危机  生存危机  老外  \n",
       "ea_forum   1       0   0       1     1     1   0  \n",
       "ssc        0       1   1       0     0     0   1  \n",
       "\n",
       "[2 rows x 79453 columns]"
      ]
     },
     "execution_count": 27,
     "metadata": {},
     "output_type": "execute_result"
    }
   ],
   "source": [
    "bow_df.head()"
   ]
  },
  {
   "cell_type": "code",
   "execution_count": 28,
   "metadata": {
    "ExecuteTime": {
     "end_time": "2020-05-07T21:34:34.246106Z",
     "start_time": "2020-05-07T21:34:33.718372Z"
    }
   },
   "outputs": [],
   "source": [
    "bow_df = bow_df.T\n",
    "bow_df.to_csv('../../data/eaforum_scc_BOW.csv')"
   ]
  }
 ],
 "metadata": {
  "kernelspec": {
   "display_name": "Python 3",
   "language": "python",
   "name": "python3"
  },
  "language_info": {
   "codemirror_mode": {
    "name": "ipython",
    "version": 3
   },
   "file_extension": ".py",
   "mimetype": "text/x-python",
   "name": "python",
   "nbconvert_exporter": "python",
   "pygments_lexer": "ipython3",
   "version": "3.7.3"
  },
  "toc": {
   "base_numbering": 1,
   "nav_menu": {},
   "number_sections": true,
   "sideBar": true,
   "skip_h1_title": false,
   "title_cell": "Table of Contents",
   "title_sidebar": "Contents",
   "toc_cell": false,
   "toc_position": {},
   "toc_section_display": true,
   "toc_window_display": false
  },
  "varInspector": {
   "cols": {
    "lenName": 16,
    "lenType": 16,
    "lenVar": 40
   },
   "kernels_config": {
    "python": {
     "delete_cmd_postfix": "",
     "delete_cmd_prefix": "del ",
     "library": "var_list.py",
     "varRefreshCmd": "print(var_dic_list())"
    },
    "r": {
     "delete_cmd_postfix": ") ",
     "delete_cmd_prefix": "rm(",
     "library": "var_list.r",
     "varRefreshCmd": "cat(var_dic_list()) "
    }
   },
   "types_to_exclude": [
    "module",
    "function",
    "builtin_function_or_method",
    "instance",
    "_Feature"
   ],
   "window_display": false
  }
 },
 "nbformat": 4,
 "nbformat_minor": 2
}
