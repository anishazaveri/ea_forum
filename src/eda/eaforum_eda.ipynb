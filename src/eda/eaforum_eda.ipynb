{
 "cells": [
  {
   "cell_type": "code",
   "execution_count": 97,
   "metadata": {
    "ExecuteTime": {
     "end_time": "2020-05-11T16:33:10.721171Z",
     "start_time": "2020-05-11T16:33:10.705569Z"
    }
   },
   "outputs": [],
   "source": [
    "import pandas as pd\n",
    "import matplotlib.pyplot as plt\n",
    "import string\n",
    "import contractions\n",
    "import re\n",
    "import unicodedata\n",
    "\n",
    "from bs4 import BeautifulSoup\n",
    "from nltk.corpus import stopwords\n",
    "from nltk.stem import PorterStemmer \n",
    "from nltk.tokenize import word_tokenize\n",
    "from wordcloud import WordCloud, STOPWORDS, ImageColorGenerator\n",
    "from sklearn.feature_extraction.text import CountVectorizer\n",
    "from plotnine import *\n",
    "%matplotlib inline"
   ]
  },
  {
   "cell_type": "markdown",
   "metadata": {},
   "source": [
    "### Join and clean dfs"
   ]
  },
  {
   "cell_type": "code",
   "execution_count": 120,
   "metadata": {
    "ExecuteTime": {
     "end_time": "2020-05-11T16:41:09.868527Z",
     "start_time": "2020-05-11T16:41:08.576857Z"
    }
   },
   "outputs": [
    {
     "data": {
      "text/html": [
       "<div>\n",
       "<style scoped>\n",
       "    .dataframe tbody tr th:only-of-type {\n",
       "        vertical-align: middle;\n",
       "    }\n",
       "\n",
       "    .dataframe tbody tr th {\n",
       "        vertical-align: top;\n",
       "    }\n",
       "\n",
       "    .dataframe thead th {\n",
       "        text-align: right;\n",
       "    }\n",
       "</style>\n",
       "<table border=\"1\" class=\"dataframe\">\n",
       "  <thead>\n",
       "    <tr style=\"text-align: right;\">\n",
       "      <th></th>\n",
       "      <th>date</th>\n",
       "      <th>title</th>\n",
       "      <th>author</th>\n",
       "      <th>num_comments</th>\n",
       "      <th>num_karma</th>\n",
       "      <th>content</th>\n",
       "    </tr>\n",
       "  </thead>\n",
       "  <tbody>\n",
       "    <tr>\n",
       "      <td>0</td>\n",
       "      <td>2013-06-21</td>\n",
       "      <td>Cheerfully</td>\n",
       "      <td>Julia_Wise</td>\n",
       "      <td>22 comments</td>\n",
       "      <td>37.0</td>\n",
       "      <td>&lt;div class=\"PostsPage-postContent\"&gt;&lt;div&gt;&lt;p&gt;Whe...</td>\n",
       "    </tr>\n",
       "    <tr>\n",
       "      <td>1</td>\n",
       "      <td>2013-05-13</td>\n",
       "      <td>What is effective altruism?</td>\n",
       "      <td>William_MacAskill</td>\n",
       "      <td>16 comments</td>\n",
       "      <td>9.0</td>\n",
       "      <td>&lt;div class=\"PostsPage-postContent\"&gt;&lt;div&gt;&lt;p&gt;&lt;im...</td>\n",
       "    </tr>\n",
       "    <tr>\n",
       "      <td>2</td>\n",
       "      <td>2013-08-19</td>\n",
       "      <td>Preventing human extinction</td>\n",
       "      <td>Peter_Singer</td>\n",
       "      <td>8 comments</td>\n",
       "      <td>12.0</td>\n",
       "      <td>&lt;div class=\"PostsPage-postContent\"&gt;&lt;div&gt;&lt;p&gt;&lt;em...</td>\n",
       "    </tr>\n",
       "    <tr>\n",
       "      <td>3</td>\n",
       "      <td>2013-09-03</td>\n",
       "      <td>Efficient charity: do unto others...</td>\n",
       "      <td>Scott_Siskind</td>\n",
       "      <td>6 comments</td>\n",
       "      <td>15.0</td>\n",
       "      <td>&lt;div class=\"PostsPage-postContent\"&gt;&lt;div&gt;&lt;p&gt;Ima...</td>\n",
       "    </tr>\n",
       "    <tr>\n",
       "      <td>4</td>\n",
       "      <td>2013-11-05</td>\n",
       "      <td>A Long-run perspective on strategic cause sele...</td>\n",
       "      <td>Carl_Shulman</td>\n",
       "      <td>29 comments</td>\n",
       "      <td>8.0</td>\n",
       "      <td>&lt;div class=\"PostsPage-postContent\"&gt;&lt;div&gt;&lt;p&gt;&lt;em...</td>\n",
       "    </tr>\n",
       "  </tbody>\n",
       "</table>\n",
       "</div>"
      ],
      "text/plain": [
       "        date                                              title  \\\n",
       "0 2013-06-21                                         Cheerfully   \n",
       "1 2013-05-13                        What is effective altruism?   \n",
       "2 2013-08-19                        Preventing human extinction   \n",
       "3 2013-09-03               Efficient charity: do unto others...   \n",
       "4 2013-11-05  A Long-run perspective on strategic cause sele...   \n",
       "\n",
       "              author num_comments  num_karma  \\\n",
       "0         Julia_Wise  22 comments       37.0   \n",
       "1  William_MacAskill  16 comments        9.0   \n",
       "2       Peter_Singer   8 comments       12.0   \n",
       "3      Scott_Siskind   6 comments       15.0   \n",
       "4       Carl_Shulman  29 comments        8.0   \n",
       "\n",
       "                                             content  \n",
       "0  <div class=\"PostsPage-postContent\"><div><p>Whe...  \n",
       "1  <div class=\"PostsPage-postContent\"><div><p><im...  \n",
       "2  <div class=\"PostsPage-postContent\"><div><p><em...  \n",
       "3  <div class=\"PostsPage-postContent\"><div><p>Ima...  \n",
       "4  <div class=\"PostsPage-postContent\"><div><p><em...  "
      ]
     },
     "execution_count": 120,
     "metadata": {},
     "output_type": "execute_result"
    }
   ],
   "source": [
    "# join dfs\n",
    "years = [2013, 2014, 2015, 2016, 2017, 2018, 2019, 2020]\n",
    "dfs = [pd.read_json(f'../../data/ea_forum/{yr}/{yr}_data.json') for yr in years]\n",
    "df = pd.concat(dfs)\n",
    "df.head()"
   ]
  },
  {
   "cell_type": "code",
   "execution_count": 121,
   "metadata": {
    "ExecuteTime": {
     "end_time": "2020-05-11T16:41:11.461526Z",
     "start_time": "2020-05-11T16:41:11.434531Z"
    }
   },
   "outputs": [
    {
     "data": {
      "text/plain": [
       "date             9\n",
       "title            9\n",
       "author          15\n",
       "num_comments     9\n",
       "num_karma        9\n",
       "content          9\n",
       "dtype: int64"
      ]
     },
     "execution_count": 121,
     "metadata": {},
     "output_type": "execute_result"
    }
   ],
   "source": [
    "df.isna().sum()"
   ]
  },
  {
   "cell_type": "code",
   "execution_count": 122,
   "metadata": {
    "ExecuteTime": {
     "end_time": "2020-05-11T16:41:12.845863Z",
     "start_time": "2020-05-11T16:41:12.833264Z"
    }
   },
   "outputs": [],
   "source": [
    "df = df[~df['content'].isna()]\n",
    "df['author'] = df['author'].fillna('anonymous')"
   ]
  },
  {
   "cell_type": "code",
   "execution_count": 123,
   "metadata": {
    "ExecuteTime": {
     "end_time": "2020-05-11T16:41:14.765389Z",
     "start_time": "2020-05-11T16:41:14.723380Z"
    }
   },
   "outputs": [],
   "source": [
    "# remove recent posts\n",
    "df = df[df['date']<'04-15-2020']"
   ]
  },
  {
   "cell_type": "code",
   "execution_count": 124,
   "metadata": {
    "ExecuteTime": {
     "end_time": "2020-05-11T16:41:16.427907Z",
     "start_time": "2020-05-11T16:41:16.417384Z"
    }
   },
   "outputs": [],
   "source": [
    "def extract_text(content):\n",
    "    soup = BeautifulSoup(content, 'html.parser')\n",
    "    #remove style tags:\n",
    "    for tag in soup.find_all('style'):\n",
    "        tag.replaceWith('')\n",
    "    #remove all other tags\n",
    "    text = soup.get_text()  \n",
    "    #fix unicode\n",
    "    text = unicodedata.normalize(\"NFKD\", text)    \n",
    "    #replace line breaks\n",
    "    text = text.replace('\\n', ' ')\n",
    "    return text\n",
    "    "
   ]
  },
  {
   "cell_type": "code",
   "execution_count": 125,
   "metadata": {
    "ExecuteTime": {
     "end_time": "2020-05-11T16:41:50.461880Z",
     "start_time": "2020-05-11T16:41:17.953609Z"
    }
   },
   "outputs": [],
   "source": [
    "df['content'] = df['content'].apply(extract_text)"
   ]
  },
  {
   "cell_type": "code",
   "execution_count": 126,
   "metadata": {
    "ExecuteTime": {
     "end_time": "2020-05-11T16:41:52.201063Z",
     "start_time": "2020-05-11T16:41:52.173060Z"
    }
   },
   "outputs": [
    {
     "data": {
      "text/html": [
       "<div>\n",
       "<style scoped>\n",
       "    .dataframe tbody tr th:only-of-type {\n",
       "        vertical-align: middle;\n",
       "    }\n",
       "\n",
       "    .dataframe tbody tr th {\n",
       "        vertical-align: top;\n",
       "    }\n",
       "\n",
       "    .dataframe thead th {\n",
       "        text-align: right;\n",
       "    }\n",
       "</style>\n",
       "<table border=\"1\" class=\"dataframe\">\n",
       "  <thead>\n",
       "    <tr style=\"text-align: right;\">\n",
       "      <th></th>\n",
       "      <th>date</th>\n",
       "      <th>title</th>\n",
       "      <th>author</th>\n",
       "      <th>num_comments</th>\n",
       "      <th>num_karma</th>\n",
       "      <th>content</th>\n",
       "    </tr>\n",
       "  </thead>\n",
       "  <tbody>\n",
       "    <tr>\n",
       "      <td>0</td>\n",
       "      <td>2013-06-21</td>\n",
       "      <td>Cheerfully</td>\n",
       "      <td>Julia_Wise</td>\n",
       "      <td>22 comments</td>\n",
       "      <td>37.0</td>\n",
       "      <td>When I was younger, I was extremely struck by ...</td>\n",
       "    </tr>\n",
       "    <tr>\n",
       "      <td>1</td>\n",
       "      <td>2013-05-13</td>\n",
       "      <td>What is effective altruism?</td>\n",
       "      <td>William_MacAskill</td>\n",
       "      <td>16 comments</td>\n",
       "      <td>9.0</td>\n",
       "      <td>Most forms of do-gooding start out with a Wh...</td>\n",
       "    </tr>\n",
       "    <tr>\n",
       "      <td>2</td>\n",
       "      <td>2013-08-19</td>\n",
       "      <td>Preventing human extinction</td>\n",
       "      <td>Peter_Singer</td>\n",
       "      <td>8 comments</td>\n",
       "      <td>12.0</td>\n",
       "      <td>Co-authored by Nick Beckstead, Peter Singer, a...</td>\n",
       "    </tr>\n",
       "    <tr>\n",
       "      <td>3</td>\n",
       "      <td>2013-09-03</td>\n",
       "      <td>Efficient charity: do unto others...</td>\n",
       "      <td>Scott_Siskind</td>\n",
       "      <td>6 comments</td>\n",
       "      <td>15.0</td>\n",
       "      <td>Imagine you are setting out on a dangerous exp...</td>\n",
       "    </tr>\n",
       "    <tr>\n",
       "      <td>4</td>\n",
       "      <td>2013-11-05</td>\n",
       "      <td>A Long-run perspective on strategic cause sele...</td>\n",
       "      <td>Carl_Shulman</td>\n",
       "      <td>29 comments</td>\n",
       "      <td>8.0</td>\n",
       "      <td>Co-written by Nick Beckstead and Carl Shulman ...</td>\n",
       "    </tr>\n",
       "  </tbody>\n",
       "</table>\n",
       "</div>"
      ],
      "text/plain": [
       "        date                                              title  \\\n",
       "0 2013-06-21                                         Cheerfully   \n",
       "1 2013-05-13                        What is effective altruism?   \n",
       "2 2013-08-19                        Preventing human extinction   \n",
       "3 2013-09-03               Efficient charity: do unto others...   \n",
       "4 2013-11-05  A Long-run perspective on strategic cause sele...   \n",
       "\n",
       "              author num_comments  num_karma  \\\n",
       "0         Julia_Wise  22 comments       37.0   \n",
       "1  William_MacAskill  16 comments        9.0   \n",
       "2       Peter_Singer   8 comments       12.0   \n",
       "3      Scott_Siskind   6 comments       15.0   \n",
       "4       Carl_Shulman  29 comments        8.0   \n",
       "\n",
       "                                             content  \n",
       "0  When I was younger, I was extremely struck by ...  \n",
       "1    Most forms of do-gooding start out with a Wh...  \n",
       "2  Co-authored by Nick Beckstead, Peter Singer, a...  \n",
       "3  Imagine you are setting out on a dangerous exp...  \n",
       "4  Co-written by Nick Beckstead and Carl Shulman ...  "
      ]
     },
     "execution_count": 126,
     "metadata": {},
     "output_type": "execute_result"
    }
   ],
   "source": [
    "df.head()"
   ]
  },
  {
   "cell_type": "code",
   "execution_count": 127,
   "metadata": {
    "ExecuteTime": {
     "end_time": "2020-05-11T16:41:54.867626Z",
     "start_time": "2020-05-11T16:41:54.826626Z"
    }
   },
   "outputs": [],
   "source": [
    "df['num_comments'] = df['num_comments'].str.replace(' comments', '').str.replace(' comment', '').str.replace('No', '0').astype(int)\n",
    "df['num_karma'] = df['num_karma'].astype(int)"
   ]
  },
  {
   "cell_type": "code",
   "execution_count": 129,
   "metadata": {
    "ExecuteTime": {
     "end_time": "2020-05-11T16:42:01.969528Z",
     "start_time": "2020-05-11T16:41:59.965729Z"
    }
   },
   "outputs": [],
   "source": [
    "df.to_csv('../../data/ea_forum/cleaned_data_eaforum.csv')"
   ]
  },
  {
   "cell_type": "markdown",
   "metadata": {},
   "source": [
    "### EDA: Comments"
   ]
  },
  {
   "cell_type": "code",
   "execution_count": 130,
   "metadata": {
    "ExecuteTime": {
     "end_time": "2020-05-11T16:42:04.476624Z",
     "start_time": "2020-05-11T16:42:04.435640Z"
    }
   },
   "outputs": [],
   "source": [
    "count_posts = pd.DataFrame(df.groupby(df['date'].dt.year).count()['title']).reset_index().rename(columns = {'title': 'count', 'date': 'year'})\n",
    "count_posts = count_posts[count_posts['year']<2020]"
   ]
  },
  {
   "cell_type": "code",
   "execution_count": 131,
   "metadata": {
    "ExecuteTime": {
     "end_time": "2020-05-11T16:42:07.378702Z",
     "start_time": "2020-05-11T16:42:06.846073Z"
    }
   },
   "outputs": [
    {
     "name": "stderr",
     "output_type": "stream",
     "text": [
      "C:\\Users\\light\\Anaconda3\\lib\\site-packages\\plotnine\\ggplot.py:729: PlotnineWarning: Saving 3 x 3 in image.\n",
      "  from_inches(height, units), units), PlotnineWarning)\n",
      "C:\\Users\\light\\Anaconda3\\lib\\site-packages\\plotnine\\ggplot.py:730: PlotnineWarning: Filename: ../../out/images/posts_year.jpeg\n",
      "  warn('Filename: {}'.format(filename), PlotnineWarning)\n"
     ]
    }
   ],
   "source": [
    "p = (ggplot(count_posts, aes(x='year', y='count'))\n",
    " +geom_col(fill='red', color='black') \n",
    " +theme_minimal()\n",
    " +theme(figure_size=(3,3), axis_text_x = element_text(angle=90), plot_background=element_rect(fill='white'))\n",
    " +scale_x_continuous(breaks=count_posts['year'].to_list())\n",
    " +xlab('')\n",
    " +ylab('Number of posts')    \n",
    ")\n",
    "p.save(filename='../../out/images/posts_year.jpeg', dpi=300)"
   ]
  },
  {
   "cell_type": "code",
   "execution_count": 132,
   "metadata": {
    "ExecuteTime": {
     "end_time": "2020-05-11T16:42:09.406347Z",
     "start_time": "2020-05-11T16:42:09.366248Z"
    },
    "scrolled": true
   },
   "outputs": [
    {
     "data": {
      "text/html": [
       "<div>\n",
       "<style scoped>\n",
       "    .dataframe tbody tr th:only-of-type {\n",
       "        vertical-align: middle;\n",
       "    }\n",
       "\n",
       "    .dataframe tbody tr th {\n",
       "        vertical-align: top;\n",
       "    }\n",
       "\n",
       "    .dataframe thead th {\n",
       "        text-align: right;\n",
       "    }\n",
       "</style>\n",
       "<table border=\"1\" class=\"dataframe\">\n",
       "  <thead>\n",
       "    <tr style=\"text-align: right;\">\n",
       "      <th></th>\n",
       "      <th>date</th>\n",
       "      <th>title</th>\n",
       "      <th>author</th>\n",
       "      <th>num_comments</th>\n",
       "    </tr>\n",
       "  </thead>\n",
       "  <tbody>\n",
       "    <tr>\n",
       "      <td>705</td>\n",
       "      <td>2019-04-23</td>\n",
       "      <td>Long-Term Future Fund: April 2019 grant recomm...</td>\n",
       "      <td>Habryka</td>\n",
       "      <td>240</td>\n",
       "    </tr>\n",
       "    <tr>\n",
       "      <td>14</td>\n",
       "      <td>2017-10-26</td>\n",
       "      <td>Why &amp; How to Make Progress on Diversity &amp; Incl...</td>\n",
       "      <td>Kelly_Witwicki</td>\n",
       "      <td>235</td>\n",
       "    </tr>\n",
       "    <tr>\n",
       "      <td>504</td>\n",
       "      <td>2019-11-15</td>\n",
       "      <td>I'm Buck Shlegeris, I do research and outreach...</td>\n",
       "      <td>Buck</td>\n",
       "      <td>231</td>\n",
       "    </tr>\n",
       "    <tr>\n",
       "      <td>6</td>\n",
       "      <td>2016-10-24</td>\n",
       "      <td>Concerns with Intentional Insights</td>\n",
       "      <td>Jeff_Kaufman</td>\n",
       "      <td>186</td>\n",
       "    </tr>\n",
       "    <tr>\n",
       "      <td>620</td>\n",
       "      <td>2019-02-26</td>\n",
       "      <td>After one year of applying for EA jobs: It is ...</td>\n",
       "      <td>EA applicant</td>\n",
       "      <td>182</td>\n",
       "    </tr>\n",
       "    <tr>\n",
       "      <td>38</td>\n",
       "      <td>2020-01-16</td>\n",
       "      <td>Growth and the case against randomista develop...</td>\n",
       "      <td>HaukeHillebrandt</td>\n",
       "      <td>168</td>\n",
       "    </tr>\n",
       "    <tr>\n",
       "      <td>70</td>\n",
       "      <td>2014-09-15</td>\n",
       "      <td>Open Thread</td>\n",
       "      <td>RyanCarey</td>\n",
       "      <td>163</td>\n",
       "    </tr>\n",
       "    <tr>\n",
       "      <td>186</td>\n",
       "      <td>2017-11-11</td>\n",
       "      <td>An Exploration of Sexual Violence Reduction fo...</td>\n",
       "      <td>Kathy_Forth</td>\n",
       "      <td>156</td>\n",
       "    </tr>\n",
       "    <tr>\n",
       "      <td>71</td>\n",
       "      <td>2014-10-22</td>\n",
       "      <td>Should Giving What We Can change its Pledge?</td>\n",
       "      <td>Michelle_Hutchinson</td>\n",
       "      <td>144</td>\n",
       "    </tr>\n",
       "    <tr>\n",
       "      <td>364</td>\n",
       "      <td>2019-09-03</td>\n",
       "      <td>Are we living at the most influential time in ...</td>\n",
       "      <td>William_MacAskill</td>\n",
       "      <td>140</td>\n",
       "    </tr>\n",
       "  </tbody>\n",
       "</table>\n",
       "</div>"
      ],
      "text/plain": [
       "          date                                              title  \\\n",
       "705 2019-04-23  Long-Term Future Fund: April 2019 grant recomm...   \n",
       "14  2017-10-26  Why & How to Make Progress on Diversity & Incl...   \n",
       "504 2019-11-15  I'm Buck Shlegeris, I do research and outreach...   \n",
       "6   2016-10-24                 Concerns with Intentional Insights   \n",
       "620 2019-02-26  After one year of applying for EA jobs: It is ...   \n",
       "38  2020-01-16  Growth and the case against randomista develop...   \n",
       "70  2014-09-15                                        Open Thread   \n",
       "186 2017-11-11  An Exploration of Sexual Violence Reduction fo...   \n",
       "71  2014-10-22      Should Giving What We Can change its Pledge?    \n",
       "364 2019-09-03  Are we living at the most influential time in ...   \n",
       "\n",
       "                  author  num_comments  \n",
       "705              Habryka           240  \n",
       "14        Kelly_Witwicki           235  \n",
       "504                 Buck           231  \n",
       "6           Jeff_Kaufman           186  \n",
       "620         EA applicant           182  \n",
       "38      HaukeHillebrandt           168  \n",
       "70             RyanCarey           163  \n",
       "186          Kathy_Forth           156  \n",
       "71   Michelle_Hutchinson           144  \n",
       "364    William_MacAskill           140  "
      ]
     },
     "execution_count": 132,
     "metadata": {},
     "output_type": "execute_result"
    }
   ],
   "source": [
    "posts_comments = df.sort_values(by='num_comments', ascending=False)[['date', 'title', 'author', 'num_comments']].head(10)\n",
    "posts_comments"
   ]
  },
  {
   "cell_type": "code",
   "execution_count": 133,
   "metadata": {
    "ExecuteTime": {
     "end_time": "2020-05-11T16:42:11.262383Z",
     "start_time": "2020-05-11T16:42:11.219382Z"
    }
   },
   "outputs": [
    {
     "data": {
      "text/html": [
       "<div>\n",
       "<style scoped>\n",
       "    .dataframe tbody tr th:only-of-type {\n",
       "        vertical-align: middle;\n",
       "    }\n",
       "\n",
       "    .dataframe tbody tr th {\n",
       "        vertical-align: top;\n",
       "    }\n",
       "\n",
       "    .dataframe thead th {\n",
       "        text-align: right;\n",
       "    }\n",
       "</style>\n",
       "<table border=\"1\" class=\"dataframe\">\n",
       "  <thead>\n",
       "    <tr style=\"text-align: right;\">\n",
       "      <th></th>\n",
       "      <th>date</th>\n",
       "      <th>title</th>\n",
       "      <th>author</th>\n",
       "      <th>num_karma</th>\n",
       "    </tr>\n",
       "  </thead>\n",
       "  <tbody>\n",
       "    <tr>\n",
       "      <td>620</td>\n",
       "      <td>2019-02-26</td>\n",
       "      <td>After one year of applying for EA jobs: It is ...</td>\n",
       "      <td>EA applicant</td>\n",
       "      <td>285</td>\n",
       "    </tr>\n",
       "    <tr>\n",
       "      <td>38</td>\n",
       "      <td>2020-01-16</td>\n",
       "      <td>Growth and the case against randomista develop...</td>\n",
       "      <td>HaukeHillebrandt</td>\n",
       "      <td>269</td>\n",
       "    </tr>\n",
       "    <tr>\n",
       "      <td>40</td>\n",
       "      <td>2020-01-13</td>\n",
       "      <td>EAF’s ballot initiative doubled Zurich’s devel...</td>\n",
       "      <td>Jonas Vollmer</td>\n",
       "      <td>254</td>\n",
       "    </tr>\n",
       "    <tr>\n",
       "      <td>398</td>\n",
       "      <td>2019-09-26</td>\n",
       "      <td>Some personal thoughts on EA and systemic change</td>\n",
       "      <td>Carl_Shulman</td>\n",
       "      <td>183</td>\n",
       "    </tr>\n",
       "    <tr>\n",
       "      <td>364</td>\n",
       "      <td>2019-09-03</td>\n",
       "      <td>Are we living at the most influential time in ...</td>\n",
       "      <td>William_MacAskill</td>\n",
       "      <td>174</td>\n",
       "    </tr>\n",
       "    <tr>\n",
       "      <td>736</td>\n",
       "      <td>2019-06-02</td>\n",
       "      <td>Is EA Growing? EA Growth Metrics for 2018</td>\n",
       "      <td>Peter_Hurford</td>\n",
       "      <td>168</td>\n",
       "    </tr>\n",
       "    <tr>\n",
       "      <td>635</td>\n",
       "      <td>2019-03-07</td>\n",
       "      <td>SHIC Will Suspend Outreach Operations</td>\n",
       "      <td>cafelow</td>\n",
       "      <td>165</td>\n",
       "    </tr>\n",
       "    <tr>\n",
       "      <td>352</td>\n",
       "      <td>2019-08-20</td>\n",
       "      <td>List of ways in which cost-effectiveness estim...</td>\n",
       "      <td>saulius</td>\n",
       "      <td>155</td>\n",
       "    </tr>\n",
       "    <tr>\n",
       "      <td>249</td>\n",
       "      <td>2019-06-20</td>\n",
       "      <td>Information security careers for GCR reduction</td>\n",
       "      <td>ClaireZabel</td>\n",
       "      <td>153</td>\n",
       "    </tr>\n",
       "    <tr>\n",
       "      <td>811</td>\n",
       "      <td>2019-08-14</td>\n",
       "      <td>Ask Me Anything!</td>\n",
       "      <td>William_MacAskill</td>\n",
       "      <td>150</td>\n",
       "    </tr>\n",
       "  </tbody>\n",
       "</table>\n",
       "</div>"
      ],
      "text/plain": [
       "          date                                              title  \\\n",
       "620 2019-02-26  After one year of applying for EA jobs: It is ...   \n",
       "38  2020-01-16  Growth and the case against randomista develop...   \n",
       "40  2020-01-13  EAF’s ballot initiative doubled Zurich’s devel...   \n",
       "398 2019-09-26   Some personal thoughts on EA and systemic change   \n",
       "364 2019-09-03  Are we living at the most influential time in ...   \n",
       "736 2019-06-02          Is EA Growing? EA Growth Metrics for 2018   \n",
       "635 2019-03-07             SHIC Will Suspend Outreach Operations    \n",
       "352 2019-08-20  List of ways in which cost-effectiveness estim...   \n",
       "249 2019-06-20     Information security careers for GCR reduction   \n",
       "811 2019-08-14                                   Ask Me Anything!   \n",
       "\n",
       "                author  num_karma  \n",
       "620       EA applicant        285  \n",
       "38    HaukeHillebrandt        269  \n",
       "40       Jonas Vollmer        254  \n",
       "398       Carl_Shulman        183  \n",
       "364  William_MacAskill        174  \n",
       "736      Peter_Hurford        168  \n",
       "635            cafelow        165  \n",
       "352            saulius        155  \n",
       "249        ClaireZabel        153  \n",
       "811  William_MacAskill        150  "
      ]
     },
     "execution_count": 133,
     "metadata": {},
     "output_type": "execute_result"
    }
   ],
   "source": [
    "posts_karma = df.sort_values(by='num_karma', ascending=False)[['date', 'title', 'author', 'num_karma']].head(10)\n",
    "posts_karma"
   ]
  },
  {
   "cell_type": "code",
   "execution_count": 136,
   "metadata": {
    "ExecuteTime": {
     "end_time": "2020-05-11T16:42:52.773142Z",
     "start_time": "2020-05-11T16:42:52.756141Z"
    }
   },
   "outputs": [],
   "source": [
    "posts_comments.to_csv('../../out/tables/posts_comments.csv', index=False)\n",
    "posts_karma.to_csv('../../out/tables/posts_karma.csv', index=False)"
   ]
  },
  {
   "cell_type": "code",
   "execution_count": 140,
   "metadata": {
    "ExecuteTime": {
     "end_time": "2020-05-11T17:45:16.298919Z",
     "start_time": "2020-05-11T17:45:16.263880Z"
    }
   },
   "outputs": [
    {
     "data": {
      "text/plain": [
       "author\n",
       "Aaron Gertler    87\n",
       "Milan_Griffes    83\n",
       "Peter_Hurford    74\n",
       "RyanCarey        66\n",
       "Tom_Ash          58\n",
       "Name: title, dtype: int64"
      ]
     },
     "execution_count": 140,
     "metadata": {},
     "output_type": "execute_result"
    }
   ],
   "source": [
    "num_posts = df.groupby('author')['title'].count().sort_values(ascending=False)\n",
    "num_posts.head()"
   ]
  },
  {
   "cell_type": "code",
   "execution_count": 143,
   "metadata": {
    "ExecuteTime": {
     "end_time": "2020-05-11T17:46:47.394177Z",
     "start_time": "2020-05-11T17:46:47.366177Z"
    }
   },
   "outputs": [
    {
     "data": {
      "text/plain": [
       "author\n",
       "Buck               92.200000\n",
       "Jonas Vollmer      77.000000\n",
       "Luisa_Rodriguez    74.714286\n",
       "saulius            73.500000\n",
       "sbehmer            73.000000\n",
       "Name: num_karma, dtype: float64"
      ]
     },
     "execution_count": 143,
     "metadata": {},
     "output_type": "execute_result"
    }
   ],
   "source": [
    "df[df['author'].map(num_posts)>1].groupby('author')['num_karma'].mean().sort_values(ascending=False).head()"
   ]
  },
  {
   "cell_type": "code",
   "execution_count": 139,
   "metadata": {
    "ExecuteTime": {
     "end_time": "2020-05-11T16:55:54.322113Z",
     "start_time": "2020-05-11T16:55:54.281593Z"
    }
   },
   "outputs": [
    {
     "data": {
      "text/plain": [
       "author\n",
       "EA applicant    285.0\n",
       "eca             140.0\n",
       "IvanVendrov     117.0\n",
       "leopold         117.0\n",
       "rosehadshar     109.0\n",
       "Name: num_karma, dtype: float64"
      ]
     },
     "execution_count": 139,
     "metadata": {},
     "output_type": "execute_result"
    }
   ],
   "source": [
    "df.groupby('author')['num_karma'].mean().sort_values(ascending=False).head()"
   ]
  },
  {
   "cell_type": "code",
   "execution_count": 13,
   "metadata": {
    "ExecuteTime": {
     "end_time": "2020-05-07T21:12:51.502557Z",
     "start_time": "2020-05-07T21:12:51.447025Z"
    }
   },
   "outputs": [
    {
     "data": {
      "text/plain": [
       "author\n",
       "EA applicant       182.0\n",
       "Kelly_Witwicki     119.0\n",
       "throwaway           96.0\n",
       "Matthew_Barnett     82.0\n",
       "AlyssaVance         80.0\n",
       "                   ...  \n",
       "Pigman               0.0\n",
       "David_Goll           0.0\n",
       "curiousepic          0.0\n",
       "mattvdm              0.0\n",
       "JDBauman             0.0\n",
       "Name: num_comments, Length: 744, dtype: float64"
      ]
     },
     "execution_count": 13,
     "metadata": {},
     "output_type": "execute_result"
    }
   ],
   "source": [
    "(df.groupby('author')['num_comments'].sum()/df.groupby('author')['num_comments'].count()).sort_values(ascending=False)"
   ]
  },
  {
   "cell_type": "markdown",
   "metadata": {},
   "source": [
    "### Clean text for wordcloud"
   ]
  },
  {
   "cell_type": "code",
   "execution_count": 144,
   "metadata": {
    "ExecuteTime": {
     "end_time": "2020-05-11T18:17:44.173953Z",
     "start_time": "2020-05-11T18:15:06.238401Z"
    }
   },
   "outputs": [],
   "source": [
    "all_text = df['content'].sum()\n",
    "#expand contractions\n",
    "all_text = ' '.join([contractions.fix(w) for w in all_text.split()])"
   ]
  },
  {
   "cell_type": "code",
   "execution_count": 145,
   "metadata": {
    "ExecuteTime": {
     "end_time": "2020-05-11T18:19:58.731719Z",
     "start_time": "2020-05-11T18:17:47.932898Z"
    }
   },
   "outputs": [],
   "source": [
    "# split into words\n",
    "tokens = word_tokenize(all_text)\n",
    "# convert to lower case\n",
    "tokens = [w.lower() for w in tokens]\n",
    "# remove punctuation\n",
    "tokens = [w for w in tokens if w not in string.punctuation] \n",
    "# filter out stop words\n",
    "stop_words = set(stopwords.words('english'))\n",
    "tokens = [w for w in tokens if not w in stop_words]\n",
    "#remove numbers\n",
    "tokens = [w for w in tokens if not re.match('.*\\d.*', w)]\n",
    "#remove https and wwws\n",
    "tokens = [w for w in tokens if not re.match('.*www.*', w)]\n",
    "tokens = [w for w in tokens if not re.match('.*http.*', w)]"
   ]
  },
  {
   "cell_type": "code",
   "execution_count": 146,
   "metadata": {
    "ExecuteTime": {
     "end_time": "2020-05-11T18:20:02.690941Z",
     "start_time": "2020-05-11T18:20:02.398945Z"
    }
   },
   "outputs": [],
   "source": [
    "cleaned_text = ' '.join(tokens)"
   ]
  },
  {
   "cell_type": "code",
   "execution_count": 147,
   "metadata": {
    "ExecuteTime": {
     "end_time": "2020-05-11T18:20:07.334813Z",
     "start_time": "2020-05-11T18:20:07.322814Z"
    }
   },
   "outputs": [
    {
     "data": {
      "text/plain": [
       "2595195"
      ]
     },
     "execution_count": 147,
     "metadata": {},
     "output_type": "execute_result"
    }
   ],
   "source": [
    "len(tokens)"
   ]
  },
  {
   "cell_type": "code",
   "execution_count": 148,
   "metadata": {
    "ExecuteTime": {
     "end_time": "2020-05-11T18:22:11.370958Z",
     "start_time": "2020-05-11T18:20:13.307756Z"
    }
   },
   "outputs": [
    {
     "data": {
      "image/png": "[encoded data removed]",
      "text/plain": [
       "<Figure size 432x288 with 1 Axes>"
      ]
     },
     "metadata": {
      "needs_background": "light"
     },
     "output_type": "display_data"
    }
   ],
   "source": [
    "# Create and generate a word cloud image:\n",
    "wordcloud = WordCloud(background_color='white', width= 4000, height = 2000, max_words = 400).generate(cleaned_text)\n",
    "\n",
    "# Display the generated image:\n",
    "plt.imshow(wordcloud, interpolation='bilinear')\n",
    "plt.axis(\"off\")\n",
    "plt.show()"
   ]
  },
  {
   "cell_type": "code",
   "execution_count": 149,
   "metadata": {
    "ExecuteTime": {
     "end_time": "2020-05-11T18:59:47.164770Z",
     "start_time": "2020-05-11T18:59:45.359167Z"
    }
   },
   "outputs": [
    {
     "data": {
      "text/plain": [
       "<wordcloud.wordcloud.WordCloud at 0x281a9d97080>"
      ]
     },
     "execution_count": 149,
     "metadata": {},
     "output_type": "execute_result"
    }
   ],
   "source": [
    "wordcloud.to_file('../../out/wordclouds/eaforum_wordcloud.jpg')"
   ]
  },
  {
   "cell_type": "markdown",
   "metadata": {},
   "source": [
    "### Make BOW for wordcloud in R"
   ]
  },
  {
   "cell_type": "code",
   "execution_count": 21,
   "metadata": {
    "ExecuteTime": {
     "end_time": "2020-05-07T21:20:55.067554Z",
     "start_time": "2020-05-07T21:20:54.992554Z"
    }
   },
   "outputs": [],
   "source": [
    "# use cleaned text to make bag of words along with ssc\n",
    "with open('../../data/ssc/ssc_for_BOW.txt', 'r+', encoding='utf-8') as f:\n",
    "    ssc_cleaned = f.read()"
   ]
  },
  {
   "cell_type": "code",
   "execution_count": 22,
   "metadata": {
    "ExecuteTime": {
     "end_time": "2020-05-07T21:20:55.083554Z",
     "start_time": "2020-05-07T21:20:55.071552Z"
    }
   },
   "outputs": [
    {
     "data": {
      "text/plain": [
       "20198740"
      ]
     },
     "execution_count": 22,
     "metadata": {},
     "output_type": "execute_result"
    }
   ],
   "source": [
    "len(cleaned_text)"
   ]
  },
  {
   "cell_type": "code",
   "execution_count": 23,
   "metadata": {
    "ExecuteTime": {
     "end_time": "2020-05-07T21:20:55.114554Z",
     "start_time": "2020-05-07T21:20:55.092552Z"
    }
   },
   "outputs": [],
   "source": [
    "corpus = [cleaned_text, ssc_cleaned]\n",
    "vectorizer = CountVectorizer(analyzer = 'word', lowercase=False, stop_words=None)\n",
    "bow = vectorizer.fit_transform(corpus)"
   ]
  },
  {
   "cell_type": "code",
   "execution_count": 25,
   "metadata": {
    "ExecuteTime": {
     "end_time": "2020-05-07T21:21:05.350594Z",
     "start_time": "2020-05-07T21:21:05.108596Z"
    }
   },
   "outputs": [],
   "source": [
    "bow_df = pd.DataFrame(bow.toarray(), index=['ea_forum', 'ssc'], columns=vectorizer.get_feature_names())"
   ]
  },
  {
   "cell_type": "code",
   "execution_count": 28,
   "metadata": {
    "ExecuteTime": {
     "end_time": "2020-05-07T21:34:34.246106Z",
     "start_time": "2020-05-07T21:34:33.718372Z"
    }
   },
   "outputs": [],
   "source": [
    "bow_df = bow_df.T\n",
    "bow_df.to_csv('../../data/eaforum_scc_BOW.csv')"
   ]
  },
  {
   "cell_type": "markdown",
   "metadata": {
    "ExecuteTime": {
     "end_time": "2020-05-06T16:26:50.818366Z",
     "start_time": "2020-05-06T16:26:50.810369Z"
    }
   },
   "source": [
    "### Make GPT2 text"
   ]
  },
  {
   "cell_type": "code",
   "execution_count": 20,
   "metadata": {
    "ExecuteTime": {
     "end_time": "2020-05-07T21:20:54.988554Z",
     "start_time": "2020-05-07T21:20:53.188853Z"
    }
   },
   "outputs": [],
   "source": [
    "with open('../../data/ea_forum/eaforum_for_gpt2.txt', 'w+', encoding='utf-8') as f:\n",
    "    for _, row in df.iterrows():\n",
    "        f.write(row['title'] + '\\n')\n",
    "        f.write(row['content'] + '\\n')"
   ]
  }
 ],
 "metadata": {
  "kernelspec": {
   "display_name": "Python 3",
   "language": "python",
   "name": "python3"
  },
  "language_info": {
   "codemirror_mode": {
    "name": "ipython",
    "version": 3
   },
   "file_extension": ".py",
   "mimetype": "text/x-python",
   "name": "python",
   "nbconvert_exporter": "python",
   "pygments_lexer": "ipython3",
   "version": "3.7.3"
  },
  "toc": {
   "base_numbering": 1,
   "nav_menu": {},
   "number_sections": true,
   "sideBar": true,
   "skip_h1_title": false,
   "title_cell": "Table of Contents",
   "title_sidebar": "Contents",
   "toc_cell": false,
   "toc_position": {},
   "toc_section_display": true,
   "toc_window_display": false
  },
  "varInspector": {
   "cols": {
    "lenName": 16,
    "lenType": 16,
    "lenVar": 40
   },
   "kernels_config": {
    "python": {
     "delete_cmd_postfix": "",
     "delete_cmd_prefix": "del ",
     "library": "var_list.py",
     "varRefreshCmd": "print(var_dic_list())"
    },
    "r": {
     "delete_cmd_postfix": ") ",
     "delete_cmd_prefix": "rm(",
     "library": "var_list.r",
     "varRefreshCmd": "cat(var_dic_list()) "
    }
   },
   "types_to_exclude": [
    "module",
    "function",
    "builtin_function_or_method",
    "instance",
    "_Feature"
   ],
   "window_display": false
  }
 },
 "nbformat": 4,
 "nbformat_minor": 2
}
