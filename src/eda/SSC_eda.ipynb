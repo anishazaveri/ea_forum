{
 "cells": [
  {
   "cell_type": "code",
   "execution_count": 1,
   "metadata": {
    "ExecuteTime": {
     "end_time": "2020-05-11T19:00:26.165663Z",
     "start_time": "2020-05-11T19:00:14.017225Z"
    }
   },
   "outputs": [],
   "source": [
    "import pandas as pd\n",
    "import matplotlib.pyplot as plt\n",
    "import string\n",
    "import contractions\n",
    "import re\n",
    "import unicodedata\n",
    "\n",
    "from bs4 import BeautifulSoup\n",
    "from nltk.corpus import stopwords\n",
    "from nltk.stem import PorterStemmer \n",
    "from nltk.tokenize import word_tokenize\n",
    "from wordcloud import WordCloud, STOPWORDS, ImageColorGenerator\n",
    "from sklearn.feature_extraction.text import CountVectorizer\n",
    "from plotnine import *\n",
    "%matplotlib inline"
   ]
  },
  {
   "cell_type": "markdown",
   "metadata": {},
   "source": [
    "## Clean df"
   ]
  },
  {
   "cell_type": "code",
   "execution_count": 15,
   "metadata": {
    "ExecuteTime": {
     "end_time": "2020-05-11T19:02:59.835506Z",
     "start_time": "2020-05-11T19:02:58.846510Z"
    }
   },
   "outputs": [
    {
     "data": {
      "text/html": [
       "<div>\n",
       "<style scoped>\n",
       "    .dataframe tbody tr th:only-of-type {\n",
       "        vertical-align: middle;\n",
       "    }\n",
       "\n",
       "    .dataframe tbody tr th {\n",
       "        vertical-align: top;\n",
       "    }\n",
       "\n",
       "    .dataframe thead th {\n",
       "        text-align: right;\n",
       "    }\n",
       "</style>\n",
       "<table border=\"1\" class=\"dataframe\">\n",
       "  <thead>\n",
       "    <tr style=\"text-align: right;\">\n",
       "      <th></th>\n",
       "      <th>date</th>\n",
       "      <th>title</th>\n",
       "      <th>author</th>\n",
       "      <th>num_comments</th>\n",
       "      <th>content</th>\n",
       "    </tr>\n",
       "  </thead>\n",
       "  <tbody>\n",
       "    <tr>\n",
       "      <td>0</td>\n",
       "      <td>NaT</td>\n",
       "      <td>Archives | Slate Star Codex</td>\n",
       "      <td>None</td>\n",
       "      <td>11 Responses to</td>\n",
       "      <td>&lt;div class=\"pjgm-postcontent\"&gt;\\n\\t\\t\\t\\t\\t\\t&lt;d...</td>\n",
       "    </tr>\n",
       "    <tr>\n",
       "      <td>1</td>\n",
       "      <td>NaT</td>\n",
       "      <td>Advertise | Slate Star Codex</td>\n",
       "      <td>None</td>\n",
       "      <td>None</td>\n",
       "      <td>&lt;div class=\"pjgm-postcontent\"&gt;\\n\\t\\t\\t\\t\\t\\t&lt;p...</td>\n",
       "    </tr>\n",
       "    <tr>\n",
       "      <td>2</td>\n",
       "      <td>NaT</td>\n",
       "      <td>Mistakes | Slate Star Codex</td>\n",
       "      <td>None</td>\n",
       "      <td>40 Responses to</td>\n",
       "      <td>&lt;div class=\"pjgm-postcontent\"&gt;\\n\\t\\t\\t\\t\\t\\t&lt;p...</td>\n",
       "    </tr>\n",
       "    <tr>\n",
       "      <td>3</td>\n",
       "      <td>NaT</td>\n",
       "      <td>Comments | Slate Star Codex</td>\n",
       "      <td>None</td>\n",
       "      <td>138 Responses to</td>\n",
       "      <td>&lt;div class=\"pjgm-postcontent\"&gt;\\n\\t\\t\\t\\t\\t\\t&lt;p...</td>\n",
       "    </tr>\n",
       "    <tr>\n",
       "      <td>4</td>\n",
       "      <td>NaT</td>\n",
       "      <td>\\n\\tComments for Slate Star Codex\\t</td>\n",
       "      <td>None</td>\n",
       "      <td>None</td>\n",
       "      <td>None</td>\n",
       "    </tr>\n",
       "  </tbody>\n",
       "</table>\n",
       "</div>"
      ],
      "text/plain": [
       "  date                                title author       num_comments  \\\n",
       "0  NaT          Archives | Slate Star Codex   None   11 Responses to    \n",
       "1  NaT         Advertise | Slate Star Codex   None               None   \n",
       "2  NaT          Mistakes | Slate Star Codex   None   40 Responses to    \n",
       "3  NaT          Comments | Slate Star Codex   None  138 Responses to    \n",
       "4  NaT  \\n\\tComments for Slate Star Codex\\t   None               None   \n",
       "\n",
       "                                             content  \n",
       "0  <div class=\"pjgm-postcontent\">\\n\\t\\t\\t\\t\\t\\t<d...  \n",
       "1  <div class=\"pjgm-postcontent\">\\n\\t\\t\\t\\t\\t\\t<p...  \n",
       "2  <div class=\"pjgm-postcontent\">\\n\\t\\t\\t\\t\\t\\t<p...  \n",
       "3  <div class=\"pjgm-postcontent\">\\n\\t\\t\\t\\t\\t\\t<p...  \n",
       "4                                               None  "
      ]
     },
     "execution_count": 15,
     "metadata": {},
     "output_type": "execute_result"
    }
   ],
   "source": [
    "df = pd.read_json('../../data/ssc/ssc_data.json')\n",
    "df.head()"
   ]
  },
  {
   "cell_type": "code",
   "execution_count": 16,
   "metadata": {
    "ExecuteTime": {
     "end_time": "2020-05-11T19:02:59.872507Z",
     "start_time": "2020-05-11T19:02:59.842506Z"
    }
   },
   "outputs": [
    {
     "data": {
      "text/plain": [
       "date             9\n",
       "title            0\n",
       "author           9\n",
       "num_comments    13\n",
       "content          5\n",
       "dtype: int64"
      ]
     },
     "execution_count": 16,
     "metadata": {},
     "output_type": "execute_result"
    }
   ],
   "source": [
    "df.isna().sum()"
   ]
  },
  {
   "cell_type": "code",
   "execution_count": 17,
   "metadata": {
    "ExecuteTime": {
     "end_time": "2020-05-11T19:02:59.899507Z",
     "start_time": "2020-05-11T19:02:59.877505Z"
    }
   },
   "outputs": [],
   "source": [
    "df = df[~df.date.isna()]"
   ]
  },
  {
   "cell_type": "code",
   "execution_count": 18,
   "metadata": {
    "ExecuteTime": {
     "end_time": "2020-05-11T19:02:59.946681Z",
     "start_time": "2020-05-11T19:02:59.904507Z"
    }
   },
   "outputs": [
    {
     "data": {
      "text/plain": [
       "date            0\n",
       "title           0\n",
       "author          0\n",
       "num_comments    8\n",
       "content         1\n",
       "dtype: int64"
      ]
     },
     "execution_count": 18,
     "metadata": {},
     "output_type": "execute_result"
    }
   ],
   "source": [
    "df.isna().sum()"
   ]
  },
  {
   "cell_type": "code",
   "execution_count": 19,
   "metadata": {
    "ExecuteTime": {
     "end_time": "2020-05-11T19:02:59.978679Z",
     "start_time": "2020-05-11T19:02:59.965683Z"
    }
   },
   "outputs": [],
   "source": [
    "#exclude recent data\n",
    "df = df[df['date']<'04-15-2020']"
   ]
  },
  {
   "cell_type": "code",
   "execution_count": 20,
   "metadata": {
    "ExecuteTime": {
     "end_time": "2020-05-11T19:03:00.041678Z",
     "start_time": "2020-05-11T19:02:59.982680Z"
    }
   },
   "outputs": [],
   "source": [
    "#fix comments\n",
    "df['num_comments'] = df['num_comments'].fillna('0 Responses to')\n",
    "for k,v in {' Responses to': '', ',' :'', 'One': '1', 'Response to':''}.items():\n",
    "    df['num_comments'] = df['num_comments'].str.replace(k,v)\n",
    "df['num_comments'] = df['num_comments'].astype(int)"
   ]
  },
  {
   "cell_type": "code",
   "execution_count": 21,
   "metadata": {
    "ExecuteTime": {
     "end_time": "2020-05-11T19:03:00.086679Z",
     "start_time": "2020-05-11T19:03:00.046677Z"
    }
   },
   "outputs": [],
   "source": [
    "#fix title\n",
    "df.title = df.title.str.replace(' \\| Slate Star Codex', '')"
   ]
  },
  {
   "cell_type": "code",
   "execution_count": 22,
   "metadata": {
    "ExecuteTime": {
     "end_time": "2020-05-11T19:03:00.134679Z",
     "start_time": "2020-05-11T19:03:00.092679Z"
    }
   },
   "outputs": [
    {
     "data": {
      "text/html": [
       "<div>\n",
       "<style scoped>\n",
       "    .dataframe tbody tr th:only-of-type {\n",
       "        vertical-align: middle;\n",
       "    }\n",
       "\n",
       "    .dataframe tbody tr th {\n",
       "        vertical-align: top;\n",
       "    }\n",
       "\n",
       "    .dataframe thead th {\n",
       "        text-align: right;\n",
       "    }\n",
       "</style>\n",
       "<table border=\"1\" class=\"dataframe\">\n",
       "  <thead>\n",
       "    <tr style=\"text-align: right;\">\n",
       "      <th></th>\n",
       "      <th>date</th>\n",
       "      <th>title</th>\n",
       "      <th>author</th>\n",
       "      <th>num_comments</th>\n",
       "      <th>content</th>\n",
       "    </tr>\n",
       "  </thead>\n",
       "  <tbody>\n",
       "    <tr>\n",
       "      <td>15</td>\n",
       "      <td>2020-04-14</td>\n",
       "      <td>A Failure, But Not Of Prediction</td>\n",
       "      <td>Scott Alexander</td>\n",
       "      <td>894</td>\n",
       "      <td>&lt;div class=\"pjgm-postcontent\"&gt;\\n\\t\\t\\t\\t\\t\\t&lt;p...</td>\n",
       "    </tr>\n",
       "    <tr>\n",
       "      <td>16</td>\n",
       "      <td>2020-04-08</td>\n",
       "      <td>2019 Predictions: Calibration Results</td>\n",
       "      <td>Scott Alexander</td>\n",
       "      <td>92</td>\n",
       "      <td>&lt;div class=\"pjgm-postcontent\"&gt;\\n\\t\\t\\t\\t\\t\\t&lt;p...</td>\n",
       "    </tr>\n",
       "    <tr>\n",
       "      <td>17</td>\n",
       "      <td>2020-04-12</td>\n",
       "      <td>Open Thread 151.5</td>\n",
       "      <td>a reader</td>\n",
       "      <td>1306</td>\n",
       "      <td>&lt;div class=\"pjgm-postcontent\"&gt;\\n\\t\\t\\t\\t\\t\\t&lt;p...</td>\n",
       "    </tr>\n",
       "    <tr>\n",
       "      <td>18</td>\n",
       "      <td>2020-04-07</td>\n",
       "      <td>Never Tell Me The Odds (Ratio)</td>\n",
       "      <td>Scott Alexander</td>\n",
       "      <td>19</td>\n",
       "      <td>&lt;div class=\"pjgm-postcontent\"&gt;\\n\\t\\t\\t\\t\\t\\t&lt;p...</td>\n",
       "    </tr>\n",
       "    <tr>\n",
       "      <td>19</td>\n",
       "      <td>2020-04-06</td>\n",
       "      <td>SSCJC: Real World Depression Measurement</td>\n",
       "      <td>Scott Alexander</td>\n",
       "      <td>65</td>\n",
       "      <td>&lt;div class=\"pjgm-postcontent\"&gt;\\n\\t\\t\\t\\t\\t\\t&lt;p...</td>\n",
       "    </tr>\n",
       "  </tbody>\n",
       "</table>\n",
       "</div>"
      ],
      "text/plain": [
       "         date                                     title           author  \\\n",
       "15 2020-04-14          A Failure, But Not Of Prediction  Scott Alexander   \n",
       "16 2020-04-08     2019 Predictions: Calibration Results  Scott Alexander   \n",
       "17 2020-04-12                         Open Thread 151.5         a reader   \n",
       "18 2020-04-07            Never Tell Me The Odds (Ratio)  Scott Alexander   \n",
       "19 2020-04-06  SSCJC: Real World Depression Measurement  Scott Alexander   \n",
       "\n",
       "    num_comments                                            content  \n",
       "15           894  <div class=\"pjgm-postcontent\">\\n\\t\\t\\t\\t\\t\\t<p...  \n",
       "16            92  <div class=\"pjgm-postcontent\">\\n\\t\\t\\t\\t\\t\\t<p...  \n",
       "17          1306  <div class=\"pjgm-postcontent\">\\n\\t\\t\\t\\t\\t\\t<p...  \n",
       "18            19  <div class=\"pjgm-postcontent\">\\n\\t\\t\\t\\t\\t\\t<p...  \n",
       "19            65  <div class=\"pjgm-postcontent\">\\n\\t\\t\\t\\t\\t\\t<p...  "
      ]
     },
     "execution_count": 22,
     "metadata": {},
     "output_type": "execute_result"
    }
   ],
   "source": [
    "df.head()"
   ]
  },
  {
   "cell_type": "code",
   "execution_count": 23,
   "metadata": {
    "ExecuteTime": {
     "end_time": "2020-05-11T19:03:00.150679Z",
     "start_time": "2020-05-11T19:03:00.140682Z"
    }
   },
   "outputs": [],
   "source": [
    "def fix_content(content):\n",
    "    soup = BeautifulSoup(content, 'html.parser')\n",
    "    text = soup.get_text() \n",
    "    text = unicodedata.normalize(\"NFKD\", text) \n",
    "    text = text.replace('\\n', ' ')\n",
    "    return text"
   ]
  },
  {
   "cell_type": "code",
   "execution_count": 24,
   "metadata": {
    "ExecuteTime": {
     "end_time": "2020-05-11T19:03:07.194783Z",
     "start_time": "2020-05-11T19:03:00.155682Z"
    }
   },
   "outputs": [
    {
     "data": {
      "text/html": [
       "<div>\n",
       "<style scoped>\n",
       "    .dataframe tbody tr th:only-of-type {\n",
       "        vertical-align: middle;\n",
       "    }\n",
       "\n",
       "    .dataframe tbody tr th {\n",
       "        vertical-align: top;\n",
       "    }\n",
       "\n",
       "    .dataframe thead th {\n",
       "        text-align: right;\n",
       "    }\n",
       "</style>\n",
       "<table border=\"1\" class=\"dataframe\">\n",
       "  <thead>\n",
       "    <tr style=\"text-align: right;\">\n",
       "      <th></th>\n",
       "      <th>date</th>\n",
       "      <th>title</th>\n",
       "      <th>author</th>\n",
       "      <th>num_comments</th>\n",
       "      <th>content</th>\n",
       "    </tr>\n",
       "  </thead>\n",
       "  <tbody>\n",
       "    <tr>\n",
       "      <td>15</td>\n",
       "      <td>2020-04-14</td>\n",
       "      <td>A Failure, But Not Of Prediction</td>\n",
       "      <td>Scott Alexander</td>\n",
       "      <td>894</td>\n",
       "      <td>I. Vox asks What Went Wrong With The Media’s ...</td>\n",
       "    </tr>\n",
       "    <tr>\n",
       "      <td>16</td>\n",
       "      <td>2020-04-08</td>\n",
       "      <td>2019 Predictions: Calibration Results</td>\n",
       "      <td>Scott Alexander</td>\n",
       "      <td>92</td>\n",
       "      <td>At the beginning of every year, I make predic...</td>\n",
       "    </tr>\n",
       "    <tr>\n",
       "      <td>17</td>\n",
       "      <td>2020-04-12</td>\n",
       "      <td>Open Thread 151.5</td>\n",
       "      <td>a reader</td>\n",
       "      <td>1306</td>\n",
       "      <td>This is the twice-weekly hidden open thread. ...</td>\n",
       "    </tr>\n",
       "    <tr>\n",
       "      <td>18</td>\n",
       "      <td>2020-04-07</td>\n",
       "      <td>Never Tell Me The Odds (Ratio)</td>\n",
       "      <td>Scott Alexander</td>\n",
       "      <td>19</td>\n",
       "      <td>[Epistemic status: low confidence, someone te...</td>\n",
       "    </tr>\n",
       "    <tr>\n",
       "      <td>19</td>\n",
       "      <td>2020-04-06</td>\n",
       "      <td>SSCJC: Real World Depression Measurement</td>\n",
       "      <td>Scott Alexander</td>\n",
       "      <td>65</td>\n",
       "      <td>The largest non-pharma antidepressant trial e...</td>\n",
       "    </tr>\n",
       "  </tbody>\n",
       "</table>\n",
       "</div>"
      ],
      "text/plain": [
       "         date                                     title           author  \\\n",
       "15 2020-04-14          A Failure, But Not Of Prediction  Scott Alexander   \n",
       "16 2020-04-08     2019 Predictions: Calibration Results  Scott Alexander   \n",
       "17 2020-04-12                         Open Thread 151.5         a reader   \n",
       "18 2020-04-07            Never Tell Me The Odds (Ratio)  Scott Alexander   \n",
       "19 2020-04-06  SSCJC: Real World Depression Measurement  Scott Alexander   \n",
       "\n",
       "    num_comments                                            content  \n",
       "15           894   I. Vox asks What Went Wrong With The Media’s ...  \n",
       "16            92   At the beginning of every year, I make predic...  \n",
       "17          1306   This is the twice-weekly hidden open thread. ...  \n",
       "18            19   [Epistemic status: low confidence, someone te...  \n",
       "19            65   The largest non-pharma antidepressant trial e...  "
      ]
     },
     "execution_count": 24,
     "metadata": {},
     "output_type": "execute_result"
    }
   ],
   "source": [
    "df['content'] = df['content'].apply(fix_content)\n",
    "df.head()"
   ]
  },
  {
   "cell_type": "code",
   "execution_count": 25,
   "metadata": {
    "ExecuteTime": {
     "end_time": "2020-05-11T19:03:08.104383Z",
     "start_time": "2020-05-11T19:03:07.200789Z"
    }
   },
   "outputs": [],
   "source": [
    "df.to_csv('../../data/ssc/cleaned_data_ssc.csv')"
   ]
  },
  {
   "cell_type": "markdown",
   "metadata": {},
   "source": [
    "## EDA"
   ]
  },
  {
   "cell_type": "code",
   "execution_count": 26,
   "metadata": {
    "ExecuteTime": {
     "end_time": "2020-05-11T19:03:18.860715Z",
     "start_time": "2020-05-11T19:03:18.825719Z"
    }
   },
   "outputs": [
    {
     "data": {
      "text/html": [
       "<div>\n",
       "<style scoped>\n",
       "    .dataframe tbody tr th:only-of-type {\n",
       "        vertical-align: middle;\n",
       "    }\n",
       "\n",
       "    .dataframe tbody tr th {\n",
       "        vertical-align: top;\n",
       "    }\n",
       "\n",
       "    .dataframe thead th {\n",
       "        text-align: right;\n",
       "    }\n",
       "</style>\n",
       "<table border=\"1\" class=\"dataframe\">\n",
       "  <thead>\n",
       "    <tr style=\"text-align: right;\">\n",
       "      <th></th>\n",
       "      <th>date</th>\n",
       "      <th>title</th>\n",
       "      <th>author</th>\n",
       "      <th>num_comments</th>\n",
       "      <th>content</th>\n",
       "    </tr>\n",
       "  </thead>\n",
       "  <tbody>\n",
       "    <tr>\n",
       "      <td>855</td>\n",
       "      <td>2016-09-28</td>\n",
       "      <td>SSC Endorses Clinton, Johnson, Or Stein</td>\n",
       "      <td>Scott Alexander</td>\n",
       "      <td>2317</td>\n",
       "      <td>I. If you are American, SSC endorses voting i...</td>\n",
       "    </tr>\n",
       "    <tr>\n",
       "      <td>945</td>\n",
       "      <td>2016-04-11</td>\n",
       "      <td>OT47: OpenAI</td>\n",
       "      <td>Scott Alexander</td>\n",
       "      <td>2201</td>\n",
       "      <td>This is the bi-weekly open thread. Post abou...</td>\n",
       "    </tr>\n",
       "    <tr>\n",
       "      <td>657</td>\n",
       "      <td>2017-08-13</td>\n",
       "      <td>OT82: Threado Quia Absurdum</td>\n",
       "      <td>Scott Alexander</td>\n",
       "      <td>2164</td>\n",
       "      <td>This is the bi-weekly visible open thread. P...</td>\n",
       "    </tr>\n",
       "    <tr>\n",
       "      <td>890</td>\n",
       "      <td>2016-07-31</td>\n",
       "      <td>OT55: Thready For Hillary</td>\n",
       "      <td>Scott Alexander</td>\n",
       "      <td>2121</td>\n",
       "      <td>This is the bi-weekly visible open thread. T...</td>\n",
       "    </tr>\n",
       "    <tr>\n",
       "      <td>753</td>\n",
       "      <td>2017-05-01</td>\n",
       "      <td>Neutral vs. Conservative: The Eternal Struggle</td>\n",
       "      <td>Scott Alexander</td>\n",
       "      <td>1910</td>\n",
       "      <td>I. Vox’s David Roberts writes about Donald Tr...</td>\n",
       "    </tr>\n",
       "    <tr>\n",
       "      <td>145</td>\n",
       "      <td>2019-09-24</td>\n",
       "      <td>Open Thread 137.25</td>\n",
       "      <td>Scott Alexander</td>\n",
       "      <td>1836</td>\n",
       "      <td>This is the twice-weekly hidden open thread, ...</td>\n",
       "    </tr>\n",
       "    <tr>\n",
       "      <td>833</td>\n",
       "      <td>2016-11-20</td>\n",
       "      <td>OT63: Open Pit Mining</td>\n",
       "      <td>Scott Alexander</td>\n",
       "      <td>1820</td>\n",
       "      <td>This is the bi-weekly visible open thread. T...</td>\n",
       "    </tr>\n",
       "    <tr>\n",
       "      <td>965</td>\n",
       "      <td>2016-02-28</td>\n",
       "      <td>OT44: Open Primary</td>\n",
       "      <td>Scott Alexander</td>\n",
       "      <td>1768</td>\n",
       "      <td>This is the bi-weekly open thread. Post abou...</td>\n",
       "    </tr>\n",
       "    <tr>\n",
       "      <td>941</td>\n",
       "      <td>2016-05-23</td>\n",
       "      <td>Three Great Articles On Poverty, And Why I Dis...</td>\n",
       "      <td>Scott Alexander</td>\n",
       "      <td>1723</td>\n",
       "      <td>QZ: The universal basic income is an idea who...</td>\n",
       "    </tr>\n",
       "    <tr>\n",
       "      <td>947</td>\n",
       "      <td>2016-04-04</td>\n",
       "      <td>The Ideology Is Not The Movement</td>\n",
       "      <td>Scott Alexander</td>\n",
       "      <td>1687</td>\n",
       "      <td>I. Why is there such a strong Sunni/Shia divi...</td>\n",
       "    </tr>\n",
       "  </tbody>\n",
       "</table>\n",
       "</div>"
      ],
      "text/plain": [
       "          date                                              title  \\\n",
       "855 2016-09-28            SSC Endorses Clinton, Johnson, Or Stein   \n",
       "945 2016-04-11                                       OT47: OpenAI   \n",
       "657 2017-08-13                        OT82: Threado Quia Absurdum   \n",
       "890 2016-07-31                          OT55: Thready For Hillary   \n",
       "753 2017-05-01     Neutral vs. Conservative: The Eternal Struggle   \n",
       "145 2019-09-24                                 Open Thread 137.25   \n",
       "833 2016-11-20                              OT63: Open Pit Mining   \n",
       "965 2016-02-28                                 OT44: Open Primary   \n",
       "941 2016-05-23  Three Great Articles On Poverty, And Why I Dis...   \n",
       "947 2016-04-04                   The Ideology Is Not The Movement   \n",
       "\n",
       "              author  num_comments  \\\n",
       "855  Scott Alexander          2317   \n",
       "945  Scott Alexander          2201   \n",
       "657  Scott Alexander          2164   \n",
       "890  Scott Alexander          2121   \n",
       "753  Scott Alexander          1910   \n",
       "145  Scott Alexander          1836   \n",
       "833  Scott Alexander          1820   \n",
       "965  Scott Alexander          1768   \n",
       "941  Scott Alexander          1723   \n",
       "947  Scott Alexander          1687   \n",
       "\n",
       "                                               content  \n",
       "855   I. If you are American, SSC endorses voting i...  \n",
       "945    This is the bi-weekly open thread. Post abou...  \n",
       "657    This is the bi-weekly visible open thread. P...  \n",
       "890    This is the bi-weekly visible open thread. T...  \n",
       "753   I. Vox’s David Roberts writes about Donald Tr...  \n",
       "145   This is the twice-weekly hidden open thread, ...  \n",
       "833    This is the bi-weekly visible open thread. T...  \n",
       "965    This is the bi-weekly open thread. Post abou...  \n",
       "941   QZ: The universal basic income is an idea who...  \n",
       "947   I. Why is there such a strong Sunni/Shia divi...  "
      ]
     },
     "execution_count": 26,
     "metadata": {},
     "output_type": "execute_result"
    }
   ],
   "source": [
    "#posts with most comments\n",
    "df.sort_values(by='num_comments', ascending=False).head(10)"
   ]
  },
  {
   "cell_type": "markdown",
   "metadata": {},
   "source": [
    "## WordCloud"
   ]
  },
  {
   "cell_type": "code",
   "execution_count": 27,
   "metadata": {
    "ExecuteTime": {
     "end_time": "2020-05-11T19:04:35.713916Z",
     "start_time": "2020-05-11T19:03:51.314627Z"
    }
   },
   "outputs": [],
   "source": [
    "all_text = df['content'].sum()\n",
    "#expand contractions\n",
    "all_text = ' '.join([contractions.fix(w) for w in all_text.split()])"
   ]
  },
  {
   "cell_type": "code",
   "execution_count": 28,
   "metadata": {
    "ExecuteTime": {
     "end_time": "2020-05-11T19:05:32.435978Z",
     "start_time": "2020-05-11T19:04:35.830918Z"
    }
   },
   "outputs": [],
   "source": [
    "# split into words\n",
    "tokens = word_tokenize(all_text)\n",
    "# convert to lower case\n",
    "tokens = [w.lower() for w in tokens]\n",
    "# remove punctuation\n",
    "tokens = [w for w in tokens if w not in string.punctuation] \n",
    "# filter out stop words\n",
    "stop_words = set(stopwords.words('english'))\n",
    "tokens = [w for w in tokens if not w in stop_words]\n",
    "#remove numbers\n",
    "tokens = [w for w in tokens if not re.match('.*\\d.*', w)]\n",
    "#remove https and wwws\n",
    "tokens = [w for w in tokens if not re.match('.*www.*', w)]\n",
    "tokens = [w for w in tokens if not re.match('.*http.*', w)]"
   ]
  },
  {
   "cell_type": "code",
   "execution_count": 29,
   "metadata": {
    "ExecuteTime": {
     "end_time": "2020-05-11T19:05:33.249529Z",
     "start_time": "2020-05-11T19:05:33.142532Z"
    }
   },
   "outputs": [],
   "source": [
    "cleaned_text = ' '.join(tokens)"
   ]
  },
  {
   "cell_type": "code",
   "execution_count": 30,
   "metadata": {
    "ExecuteTime": {
     "end_time": "2020-05-11T19:05:34.110609Z",
     "start_time": "2020-05-11T19:05:34.097611Z"
    }
   },
   "outputs": [
    {
     "data": {
      "text/plain": [
       "1362310"
      ]
     },
     "execution_count": 30,
     "metadata": {},
     "output_type": "execute_result"
    }
   ],
   "source": [
    "len(tokens)"
   ]
  },
  {
   "cell_type": "code",
   "execution_count": 31,
   "metadata": {
    "ExecuteTime": {
     "end_time": "2020-05-11T19:07:13.693722Z",
     "start_time": "2020-05-11T19:05:35.251609Z"
    }
   },
   "outputs": [
    {
     "data": {
      "image/png": "[encoded data removed]",
      "text/plain": [
       "<Figure size 432x288 with 1 Axes>"
      ]
     },
     "metadata": {
      "needs_background": "light"
     },
     "output_type": "display_data"
    }
   ],
   "source": [
    "# Create and generate a word cloud image:\n",
    "wordcloud = WordCloud(background_color='white', width= 4000, height = 2000, max_words = 400).generate(cleaned_text)\n",
    "\n",
    "# Display the generated image:\n",
    "plt.imshow(wordcloud, interpolation='bilinear')\n",
    "plt.axis(\"off\")\n",
    "plt.show()"
   ]
  },
  {
   "cell_type": "code",
   "execution_count": 32,
   "metadata": {
    "ExecuteTime": {
     "end_time": "2020-05-11T19:07:17.082010Z",
     "start_time": "2020-05-11T19:07:14.883915Z"
    }
   },
   "outputs": [
    {
     "data": {
      "text/plain": [
       "<wordcloud.wordcloud.WordCloud at 0x13e00021748>"
      ]
     },
     "execution_count": 32,
     "metadata": {},
     "output_type": "execute_result"
    }
   ],
   "source": [
    "wordcloud.to_file('../../out/wordclouds/ssc_wordcloud.jpg')"
   ]
  },
  {
   "cell_type": "markdown",
   "metadata": {},
   "source": [
    "## BOW"
   ]
  },
  {
   "cell_type": "code",
   "execution_count": 22,
   "metadata": {
    "ExecuteTime": {
     "end_time": "2020-05-07T20:51:27.800400Z",
     "start_time": "2020-05-07T20:51:27.726572Z"
    }
   },
   "outputs": [],
   "source": [
    "#cleaned_text for bag of words\n",
    "with open('../../data/ssc/ssc_for_BOW.txt', 'w+', encoding='utf-8') as f:\n",
    "    f.write(cleaned_text)"
   ]
  }
 ],
 "metadata": {
  "kernelspec": {
   "display_name": "Python 3",
   "language": "python",
   "name": "python3"
  },
  "language_info": {
   "codemirror_mode": {
    "name": "ipython",
    "version": 3
   },
   "file_extension": ".py",
   "mimetype": "text/x-python",
   "name": "python",
   "nbconvert_exporter": "python",
   "pygments_lexer": "ipython3",
   "version": "3.7.3"
  },
  "toc": {
   "base_numbering": 1,
   "nav_menu": {},
   "number_sections": true,
   "sideBar": true,
   "skip_h1_title": false,
   "title_cell": "Table of Contents",
   "title_sidebar": "Contents",
   "toc_cell": false,
   "toc_position": {},
   "toc_section_display": true,
   "toc_window_display": false
  },
  "varInspector": {
   "cols": {
    "lenName": 16,
    "lenType": 16,
    "lenVar": 40
   },
   "kernels_config": {
    "python": {
     "delete_cmd_postfix": "",
     "delete_cmd_prefix": "del ",
     "library": "var_list.py",
     "varRefreshCmd": "print(var_dic_list())"
    },
    "r": {
     "delete_cmd_postfix": ") ",
     "delete_cmd_prefix": "rm(",
     "library": "var_list.r",
     "varRefreshCmd": "cat(var_dic_list()) "
    }
   },
   "types_to_exclude": [
    "module",
    "function",
    "builtin_function_or_method",
    "instance",
    "_Feature"
   ],
   "window_display": false
  }
 },
 "nbformat": 4,
 "nbformat_minor": 2
}
