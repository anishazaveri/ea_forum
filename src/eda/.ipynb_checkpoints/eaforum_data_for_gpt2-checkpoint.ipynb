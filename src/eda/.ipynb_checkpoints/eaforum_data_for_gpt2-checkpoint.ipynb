{
 "cells": [
  {
   "cell_type": "code",
   "execution_count": 1,
   "metadata": {
    "ExecuteTime": {
     "end_time": "2020-05-03T20:52:57.579202Z",
     "start_time": "2020-05-03T20:52:54.814634Z"
    }
   },
   "outputs": [],
   "source": [
    "import pandas as pd"
   ]
  },
  {
   "cell_type": "code",
   "execution_count": 2,
   "metadata": {
    "ExecuteTime": {
     "end_time": "2020-05-03T20:52:57.796204Z",
     "start_time": "2020-05-03T20:52:57.584205Z"
    }
   },
   "outputs": [
    {
     "data": {
      "text/html": [
       "<div>\n",
       "<style scoped>\n",
       "    .dataframe tbody tr th:only-of-type {\n",
       "        vertical-align: middle;\n",
       "    }\n",
       "\n",
       "    .dataframe tbody tr th {\n",
       "        vertical-align: top;\n",
       "    }\n",
       "\n",
       "    .dataframe thead th {\n",
       "        text-align: right;\n",
       "    }\n",
       "</style>\n",
       "<table border=\"1\" class=\"dataframe\">\n",
       "  <thead>\n",
       "    <tr style=\"text-align: right;\">\n",
       "      <th></th>\n",
       "      <th>date</th>\n",
       "      <th>title</th>\n",
       "      <th>author</th>\n",
       "      <th>num_comments</th>\n",
       "      <th>content</th>\n",
       "    </tr>\n",
       "  </thead>\n",
       "  <tbody>\n",
       "    <tr>\n",
       "      <td>0</td>\n",
       "      <td>2013-06-21</td>\n",
       "      <td>Cheerfully</td>\n",
       "      <td>Julia_Wise</td>\n",
       "      <td>22 comments</td>\n",
       "      <td>When I was younger, I was extremely struck by ...</td>\n",
       "    </tr>\n",
       "    <tr>\n",
       "      <td>1</td>\n",
       "      <td>2013-05-13</td>\n",
       "      <td>What is effective altruism?</td>\n",
       "      <td>William_MacAskill</td>\n",
       "      <td>16 comments</td>\n",
       "      <td>Most forms of do-gooding start out with a Wh...</td>\n",
       "    </tr>\n",
       "    <tr>\n",
       "      <td>2</td>\n",
       "      <td>2013-11-05</td>\n",
       "      <td>A Long-run perspective on strategic cause sele...</td>\n",
       "      <td>Carl_Shulman</td>\n",
       "      <td>29 comments</td>\n",
       "      <td>Co-written by Nick Beckstead and Carl Shulman ...</td>\n",
       "    </tr>\n",
       "    <tr>\n",
       "      <td>3</td>\n",
       "      <td>2013-08-19</td>\n",
       "      <td>Preventing human extinction</td>\n",
       "      <td>Peter_Singer</td>\n",
       "      <td>8 comments</td>\n",
       "      <td>Co-authored by Nick Beckstead, Peter Singer, a...</td>\n",
       "    </tr>\n",
       "    <tr>\n",
       "      <td>4</td>\n",
       "      <td>2013-05-27</td>\n",
       "      <td>A proposed adjustment to the astronomical wast...</td>\n",
       "      <td>Nick_Beckstead</td>\n",
       "      <td>1 comment</td>\n",
       "      <td>An existential risk is a risk “that threatens...</td>\n",
       "    </tr>\n",
       "  </tbody>\n",
       "</table>\n",
       "</div>"
      ],
      "text/plain": [
       "        date                                              title  \\\n",
       "0 2013-06-21                                         Cheerfully   \n",
       "1 2013-05-13                        What is effective altruism?   \n",
       "2 2013-11-05  A Long-run perspective on strategic cause sele...   \n",
       "3 2013-08-19                        Preventing human extinction   \n",
       "4 2013-05-27  A proposed adjustment to the astronomical wast...   \n",
       "\n",
       "              author num_comments  \\\n",
       "0         Julia_Wise  22 comments   \n",
       "1  William_MacAskill  16 comments   \n",
       "2       Carl_Shulman  29 comments   \n",
       "3       Peter_Singer   8 comments   \n",
       "4     Nick_Beckstead    1 comment   \n",
       "\n",
       "                                             content  \n",
       "0  When I was younger, I was extremely struck by ...  \n",
       "1    Most forms of do-gooding start out with a Wh...  \n",
       "2  Co-written by Nick Beckstead and Carl Shulman ...  \n",
       "3  Co-authored by Nick Beckstead, Peter Singer, a...  \n",
       "4   An existential risk is a risk “that threatens...  "
      ]
     },
     "execution_count": 2,
     "metadata": {},
     "output_type": "execute_result"
    }
   ],
   "source": [
    "df = pd.read_pickle('../../data/ea_forum/all_year_df.pkl')\n",
    "df.head()"
   ]
  },
  {
   "cell_type": "code",
   "execution_count": 3,
   "metadata": {
    "ExecuteTime": {
     "end_time": "2020-05-03T20:53:32.751865Z",
     "start_time": "2020-05-03T20:53:30.144691Z"
    }
   },
   "outputs": [],
   "source": [
    "with open('../../data/ea_forum/eaforum_for_gpt2.txt', 'w+', encoding='utf-8') as f:\n",
    "    for _, row in df.iterrows():\n",
    "        f.write('<|startoftext|>' + '\\n')\n",
    "        f.write(row['title'] + '\\n')\n",
    "        f.write(row['content'] + '\\n')\n",
    "        f.write('<|endoftext|>' + '\\n')"
   ]
  }
 ],
 "metadata": {
  "kernelspec": {
   "display_name": "Python 3",
   "language": "python",
   "name": "python3"
  },
  "language_info": {
   "codemirror_mode": {
    "name": "ipython",
    "version": 3
   },
   "file_extension": ".py",
   "mimetype": "text/x-python",
   "name": "python",
   "nbconvert_exporter": "python",
   "pygments_lexer": "ipython3",
   "version": "3.7.3"
  },
  "toc": {
   "base_numbering": 1,
   "nav_menu": {},
   "number_sections": true,
   "sideBar": true,
   "skip_h1_title": false,
   "title_cell": "Table of Contents",
   "title_sidebar": "Contents",
   "toc_cell": false,
   "toc_position": {},
   "toc_section_display": true,
   "toc_window_display": false
  },
  "varInspector": {
   "cols": {
    "lenName": 16,
    "lenType": 16,
    "lenVar": 40
   },
   "kernels_config": {
    "python": {
     "delete_cmd_postfix": "",
     "delete_cmd_prefix": "del ",
     "library": "var_list.py",
     "varRefreshCmd": "print(var_dic_list())"
    },
    "r": {
     "delete_cmd_postfix": ") ",
     "delete_cmd_prefix": "rm(",
     "library": "var_list.r",
     "varRefreshCmd": "cat(var_dic_list()) "
    }
   },
   "types_to_exclude": [
    "module",
    "function",
    "builtin_function_or_method",
    "instance",
    "_Feature"
   ],
   "window_display": false
  }
 },
 "nbformat": 4,
 "nbformat_minor": 2
}
